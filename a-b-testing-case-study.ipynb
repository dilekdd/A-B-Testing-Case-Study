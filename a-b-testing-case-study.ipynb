{
 "cells": [
  {
   "cell_type": "markdown",
   "id": "690a1988",
   "metadata": {
    "papermill": {
     "duration": 0.013395,
     "end_time": "2024-09-15T14:50:48.869489",
     "exception": false,
     "start_time": "2024-09-15T14:50:48.856094",
     "status": "completed"
    },
    "tags": []
   },
   "source": [
    "<div style=\"text-align: center; font-size: 24px; font-weight: bold; color: purple;\">\n",
    "    A/B Testing Case Study\n",
    "</div>"
   ]
  },
  {
   "cell_type": "markdown",
   "id": "16c4a9bf",
   "metadata": {
    "papermill": {
     "duration": 0.010014,
     "end_time": "2024-09-15T14:50:48.891916",
     "exception": false,
     "start_time": "2024-09-15T14:50:48.881902",
     "status": "completed"
    },
    "tags": []
   },
   "source": [
    "Case Description;\n",
    "\n",
    "Facebook recently introduced a new bidding type called 'average bidding' as an alternative to the existing 'maximum bidding' method. \n",
    "\n",
    "One of our clients, bombabomba.com, decided to test this new feature and wants to understand whether average bidding brings more conversions than maximum bidding through an A/B test. \n",
    "\n",
    "The A/B test has been running for a month, and bombabomba.com is now expecting you to analyze the results of this A/B test. \n",
    "\n",
    "The ultimate success metric for bombabomba.com is Purchase. Therefore, statistical tests should focus on the \"Purchase\" metric.\n",
    "\n",
    "\n",
    "The dataset, which contains information about the company's website, includes details such as the number of ads users have seen and clicked on, as well as revenue generated from these interactions. \n",
    "\n",
    "There are two separate datasets: Control and Test groups. These datasets are located on different sheets of the ab_testing.xlsx Excel file. \n",
    "\n",
    "Maximum Bidding was applied to the Control group, and Average Bidding was applied to the Test group.\n",
    "\n",
    "Data Dictionary:\n",
    "\n",
    "| **Metric**   | **Description**                                          |\n",
    "|--------------|----------------------------------------------------------|\n",
    "| Impression   | The number of times an ad was displayed                  |\n",
    "| Click        | The number of clicks on the displayed ad                 |\n",
    "| Purchase     | The number of products purchased after clicking the ad   |\n",
    "| Earning      | Revenue generated from the purchased products            |\n"
   ]
  },
  {
   "cell_type": "code",
   "execution_count": 1,
   "id": "bafab30e",
   "metadata": {
    "execution": {
     "iopub.execute_input": "2024-09-15T14:50:48.912567Z",
     "iopub.status.busy": "2024-09-15T14:50:48.911379Z",
     "iopub.status.idle": "2024-09-15T14:51:08.253424Z",
     "shell.execute_reply": "2024-09-15T14:51:08.252005Z"
    },
    "papermill": {
     "duration": 19.355909,
     "end_time": "2024-09-15T14:51:08.256654",
     "exception": false,
     "start_time": "2024-09-15T14:50:48.900745",
     "status": "completed"
    },
    "tags": []
   },
   "outputs": [
    {
     "name": "stdout",
     "output_type": "stream",
     "text": [
      "Requirement already satisfied: statsmodels in /opt/conda/lib/python3.10/site-packages (0.14.2)\r\n",
      "Requirement already satisfied: numpy>=1.22.3 in /opt/conda/lib/python3.10/site-packages (from statsmodels) (1.26.4)\r\n",
      "Requirement already satisfied: scipy!=1.9.2,>=1.8 in /opt/conda/lib/python3.10/site-packages (from statsmodels) (1.14.0)\r\n",
      "Requirement already satisfied: pandas!=2.1.0,>=1.4 in /opt/conda/lib/python3.10/site-packages (from statsmodels) (2.2.2)\r\n",
      "Requirement already satisfied: patsy>=0.5.6 in /opt/conda/lib/python3.10/site-packages (from statsmodels) (0.5.6)\r\n",
      "Requirement already satisfied: packaging>=21.3 in /opt/conda/lib/python3.10/site-packages (from statsmodels) (21.3)\r\n",
      "Requirement already satisfied: pyparsing!=3.0.5,>=2.0.2 in /opt/conda/lib/python3.10/site-packages (from packaging>=21.3->statsmodels) (3.1.2)\r\n",
      "Requirement already satisfied: python-dateutil>=2.8.2 in /opt/conda/lib/python3.10/site-packages (from pandas!=2.1.0,>=1.4->statsmodels) (2.9.0.post0)\r\n",
      "Requirement already satisfied: pytz>=2020.1 in /opt/conda/lib/python3.10/site-packages (from pandas!=2.1.0,>=1.4->statsmodels) (2024.1)\r\n",
      "Requirement already satisfied: tzdata>=2022.7 in /opt/conda/lib/python3.10/site-packages (from pandas!=2.1.0,>=1.4->statsmodels) (2024.1)\r\n",
      "Requirement already satisfied: six in /opt/conda/lib/python3.10/site-packages (from patsy>=0.5.6->statsmodels) (1.16.0)\r\n"
     ]
    }
   ],
   "source": [
    "import itertools\n",
    "import numpy as np\n",
    "import pandas as pd\n",
    "import matplotlib.pyplot as plt\n",
    "import seaborn as sns\n",
    "!pip install statsmodels\n",
    "import statsmodels.stats.api as sms\n",
    "from scipy.stats import ttest_1samp, shapiro, levene, ttest_ind, mannwhitneyu, \\\n",
    "    pearsonr, spearmanr, kendalltau, f_oneway, kruskal\n",
    "from statsmodels.stats.proportion import proportions_ztest\n",
    "\n",
    "pd.set_option('display.max_columns', None)\n",
    "pd.set_option('display.max_rows', 10)\n",
    "pd.set_option('display.width', 1000)\n",
    "pd.set_option('display.float_format', lambda x: '%.5f' % x)\n"
   ]
  },
  {
   "cell_type": "code",
   "execution_count": 2,
   "id": "fe3b1dfc",
   "metadata": {
    "execution": {
     "iopub.execute_input": "2024-09-15T14:51:08.277347Z",
     "iopub.status.busy": "2024-09-15T14:51:08.276600Z",
     "iopub.status.idle": "2024-09-15T14:51:08.637739Z",
     "shell.execute_reply": "2024-09-15T14:51:08.636467Z"
    },
    "papermill": {
     "duration": 0.375232,
     "end_time": "2024-09-15T14:51:08.641149",
     "exception": false,
     "start_time": "2024-09-15T14:51:08.265917",
     "status": "completed"
    },
    "tags": []
   },
   "outputs": [],
   "source": [
    "df_control = pd.read_excel(\"/kaggle/input/ab-testing/ab_testing.xlsx\", sheet_name=\"Control Group\") #Maximum Bidding"
   ]
  },
  {
   "cell_type": "code",
   "execution_count": 3,
   "id": "278b68b4",
   "metadata": {
    "execution": {
     "iopub.execute_input": "2024-09-15T14:51:08.661380Z",
     "iopub.status.busy": "2024-09-15T14:51:08.660814Z",
     "iopub.status.idle": "2024-09-15T14:51:08.683858Z",
     "shell.execute_reply": "2024-09-15T14:51:08.682718Z"
    },
    "papermill": {
     "duration": 0.036017,
     "end_time": "2024-09-15T14:51:08.686415",
     "exception": false,
     "start_time": "2024-09-15T14:51:08.650398",
     "status": "completed"
    },
    "tags": []
   },
   "outputs": [
    {
     "data": {
      "text/html": [
       "<div>\n",
       "<style scoped>\n",
       "    .dataframe tbody tr th:only-of-type {\n",
       "        vertical-align: middle;\n",
       "    }\n",
       "\n",
       "    .dataframe tbody tr th {\n",
       "        vertical-align: top;\n",
       "    }\n",
       "\n",
       "    .dataframe thead th {\n",
       "        text-align: right;\n",
       "    }\n",
       "</style>\n",
       "<table border=\"1\" class=\"dataframe\">\n",
       "  <thead>\n",
       "    <tr style=\"text-align: right;\">\n",
       "      <th></th>\n",
       "      <th>Impression</th>\n",
       "      <th>Click</th>\n",
       "      <th>Purchase</th>\n",
       "      <th>Earning</th>\n",
       "    </tr>\n",
       "  </thead>\n",
       "  <tbody>\n",
       "    <tr>\n",
       "      <th>0</th>\n",
       "      <td>82529.45927</td>\n",
       "      <td>6090.07732</td>\n",
       "      <td>665.21125</td>\n",
       "      <td>2311.27714</td>\n",
       "    </tr>\n",
       "    <tr>\n",
       "      <th>1</th>\n",
       "      <td>98050.45193</td>\n",
       "      <td>3382.86179</td>\n",
       "      <td>315.08489</td>\n",
       "      <td>1742.80686</td>\n",
       "    </tr>\n",
       "    <tr>\n",
       "      <th>2</th>\n",
       "      <td>82696.02355</td>\n",
       "      <td>4167.96575</td>\n",
       "      <td>458.08374</td>\n",
       "      <td>1797.82745</td>\n",
       "    </tr>\n",
       "    <tr>\n",
       "      <th>3</th>\n",
       "      <td>109914.40040</td>\n",
       "      <td>4910.88224</td>\n",
       "      <td>487.09077</td>\n",
       "      <td>1696.22918</td>\n",
       "    </tr>\n",
       "    <tr>\n",
       "      <th>4</th>\n",
       "      <td>108457.76263</td>\n",
       "      <td>5987.65581</td>\n",
       "      <td>441.03405</td>\n",
       "      <td>1543.72018</td>\n",
       "    </tr>\n",
       "  </tbody>\n",
       "</table>\n",
       "</div>"
      ],
      "text/plain": [
       "    Impression      Click  Purchase    Earning\n",
       "0  82529.45927 6090.07732 665.21125 2311.27714\n",
       "1  98050.45193 3382.86179 315.08489 1742.80686\n",
       "2  82696.02355 4167.96575 458.08374 1797.82745\n",
       "3 109914.40040 4910.88224 487.09077 1696.22918\n",
       "4 108457.76263 5987.65581 441.03405 1543.72018"
      ]
     },
     "execution_count": 3,
     "metadata": {},
     "output_type": "execute_result"
    }
   ],
   "source": [
    "df_control.head()"
   ]
  },
  {
   "cell_type": "code",
   "execution_count": 4,
   "id": "2b2f8e13",
   "metadata": {
    "execution": {
     "iopub.execute_input": "2024-09-15T14:51:08.706779Z",
     "iopub.status.busy": "2024-09-15T14:51:08.706372Z",
     "iopub.status.idle": "2024-09-15T14:51:08.714492Z",
     "shell.execute_reply": "2024-09-15T14:51:08.713194Z"
    },
    "papermill": {
     "duration": 0.021206,
     "end_time": "2024-09-15T14:51:08.717004",
     "exception": false,
     "start_time": "2024-09-15T14:51:08.695798",
     "status": "completed"
    },
    "tags": []
   },
   "outputs": [
    {
     "data": {
      "text/plain": [
       "(40, 4)"
      ]
     },
     "execution_count": 4,
     "metadata": {},
     "output_type": "execute_result"
    }
   ],
   "source": [
    "df_control.shape"
   ]
  },
  {
   "cell_type": "code",
   "execution_count": 5,
   "id": "67c3c98b",
   "metadata": {
    "execution": {
     "iopub.execute_input": "2024-09-15T14:51:08.738105Z",
     "iopub.status.busy": "2024-09-15T14:51:08.737072Z",
     "iopub.status.idle": "2024-09-15T14:51:08.761667Z",
     "shell.execute_reply": "2024-09-15T14:51:08.760417Z"
    },
    "papermill": {
     "duration": 0.038066,
     "end_time": "2024-09-15T14:51:08.764503",
     "exception": false,
     "start_time": "2024-09-15T14:51:08.726437",
     "status": "completed"
    },
    "tags": []
   },
   "outputs": [
    {
     "name": "stdout",
     "output_type": "stream",
     "text": [
      "<class 'pandas.core.frame.DataFrame'>\n",
      "RangeIndex: 40 entries, 0 to 39\n",
      "Data columns (total 4 columns):\n",
      " #   Column      Non-Null Count  Dtype  \n",
      "---  ------      --------------  -----  \n",
      " 0   Impression  40 non-null     float64\n",
      " 1   Click       40 non-null     float64\n",
      " 2   Purchase    40 non-null     float64\n",
      " 3   Earning     40 non-null     float64\n",
      "dtypes: float64(4)\n",
      "memory usage: 1.4 KB\n"
     ]
    }
   ],
   "source": [
    "df_control.info()"
   ]
  },
  {
   "cell_type": "code",
   "execution_count": 6,
   "id": "7819a7f3",
   "metadata": {
    "execution": {
     "iopub.execute_input": "2024-09-15T14:51:08.786056Z",
     "iopub.status.busy": "2024-09-15T14:51:08.785182Z",
     "iopub.status.idle": "2024-09-15T14:51:08.794796Z",
     "shell.execute_reply": "2024-09-15T14:51:08.793676Z"
    },
    "papermill": {
     "duration": 0.023212,
     "end_time": "2024-09-15T14:51:08.797305",
     "exception": false,
     "start_time": "2024-09-15T14:51:08.774093",
     "status": "completed"
    },
    "tags": []
   },
   "outputs": [
    {
     "data": {
      "text/plain": [
       "Impression    0\n",
       "Click         0\n",
       "Purchase      0\n",
       "Earning       0\n",
       "dtype: int64"
      ]
     },
     "execution_count": 6,
     "metadata": {},
     "output_type": "execute_result"
    }
   ],
   "source": [
    "df_control.isnull().sum()"
   ]
  },
  {
   "cell_type": "code",
   "execution_count": 7,
   "id": "529828dc",
   "metadata": {
    "execution": {
     "iopub.execute_input": "2024-09-15T14:51:08.818565Z",
     "iopub.status.busy": "2024-09-15T14:51:08.818142Z",
     "iopub.status.idle": "2024-09-15T14:51:08.846235Z",
     "shell.execute_reply": "2024-09-15T14:51:08.845168Z"
    },
    "papermill": {
     "duration": 0.041899,
     "end_time": "2024-09-15T14:51:08.848915",
     "exception": false,
     "start_time": "2024-09-15T14:51:08.807016",
     "status": "completed"
    },
    "tags": []
   },
   "outputs": [
    {
     "data": {
      "text/html": [
       "<div>\n",
       "<style scoped>\n",
       "    .dataframe tbody tr th:only-of-type {\n",
       "        vertical-align: middle;\n",
       "    }\n",
       "\n",
       "    .dataframe tbody tr th {\n",
       "        vertical-align: top;\n",
       "    }\n",
       "\n",
       "    .dataframe thead th {\n",
       "        text-align: right;\n",
       "    }\n",
       "</style>\n",
       "<table border=\"1\" class=\"dataframe\">\n",
       "  <thead>\n",
       "    <tr style=\"text-align: right;\">\n",
       "      <th></th>\n",
       "      <th>count</th>\n",
       "      <th>mean</th>\n",
       "      <th>std</th>\n",
       "      <th>min</th>\n",
       "      <th>25%</th>\n",
       "      <th>50%</th>\n",
       "      <th>75%</th>\n",
       "      <th>max</th>\n",
       "    </tr>\n",
       "  </thead>\n",
       "  <tbody>\n",
       "    <tr>\n",
       "      <th>Impression</th>\n",
       "      <td>40.00000</td>\n",
       "      <td>101711.44907</td>\n",
       "      <td>20302.15786</td>\n",
       "      <td>45475.94296</td>\n",
       "      <td>85726.69035</td>\n",
       "      <td>99790.70108</td>\n",
       "      <td>115212.81654</td>\n",
       "      <td>147539.33633</td>\n",
       "    </tr>\n",
       "    <tr>\n",
       "      <th>Click</th>\n",
       "      <td>40.00000</td>\n",
       "      <td>5100.65737</td>\n",
       "      <td>1329.98550</td>\n",
       "      <td>2189.75316</td>\n",
       "      <td>4124.30413</td>\n",
       "      <td>5001.22060</td>\n",
       "      <td>5923.80360</td>\n",
       "      <td>7959.12507</td>\n",
       "    </tr>\n",
       "    <tr>\n",
       "      <th>Purchase</th>\n",
       "      <td>40.00000</td>\n",
       "      <td>550.89406</td>\n",
       "      <td>134.10820</td>\n",
       "      <td>267.02894</td>\n",
       "      <td>470.09553</td>\n",
       "      <td>531.20631</td>\n",
       "      <td>637.95709</td>\n",
       "      <td>801.79502</td>\n",
       "    </tr>\n",
       "    <tr>\n",
       "      <th>Earning</th>\n",
       "      <td>40.00000</td>\n",
       "      <td>1908.56830</td>\n",
       "      <td>302.91778</td>\n",
       "      <td>1253.98952</td>\n",
       "      <td>1685.84720</td>\n",
       "      <td>1975.16052</td>\n",
       "      <td>2119.80278</td>\n",
       "      <td>2497.29522</td>\n",
       "    </tr>\n",
       "  </tbody>\n",
       "</table>\n",
       "</div>"
      ],
      "text/plain": [
       "              count         mean         std         min         25%         50%          75%          max\n",
       "Impression 40.00000 101711.44907 20302.15786 45475.94296 85726.69035 99790.70108 115212.81654 147539.33633\n",
       "Click      40.00000   5100.65737  1329.98550  2189.75316  4124.30413  5001.22060   5923.80360   7959.12507\n",
       "Purchase   40.00000    550.89406   134.10820   267.02894   470.09553   531.20631    637.95709    801.79502\n",
       "Earning    40.00000   1908.56830   302.91778  1253.98952  1685.84720  1975.16052   2119.80278   2497.29522"
      ]
     },
     "execution_count": 7,
     "metadata": {},
     "output_type": "execute_result"
    }
   ],
   "source": [
    "df_control.describe().T"
   ]
  },
  {
   "cell_type": "code",
   "execution_count": 8,
   "id": "a35bd838",
   "metadata": {
    "execution": {
     "iopub.execute_input": "2024-09-15T14:51:08.870705Z",
     "iopub.status.busy": "2024-09-15T14:51:08.870279Z",
     "iopub.status.idle": "2024-09-15T14:51:08.906476Z",
     "shell.execute_reply": "2024-09-15T14:51:08.905133Z"
    },
    "papermill": {
     "duration": 0.050803,
     "end_time": "2024-09-15T14:51:08.909618",
     "exception": false,
     "start_time": "2024-09-15T14:51:08.858815",
     "status": "completed"
    },
    "tags": []
   },
   "outputs": [],
   "source": [
    "df_test = pd.read_excel(\"/kaggle/input/ab-testing/ab_testing.xlsx\", sheet_name=\"Test Group\") #Average Bidding"
   ]
  },
  {
   "cell_type": "code",
   "execution_count": 9,
   "id": "4ab33dbe",
   "metadata": {
    "execution": {
     "iopub.execute_input": "2024-09-15T14:51:08.932303Z",
     "iopub.status.busy": "2024-09-15T14:51:08.931376Z",
     "iopub.status.idle": "2024-09-15T14:51:08.943552Z",
     "shell.execute_reply": "2024-09-15T14:51:08.942357Z"
    },
    "papermill": {
     "duration": 0.025936,
     "end_time": "2024-09-15T14:51:08.945992",
     "exception": false,
     "start_time": "2024-09-15T14:51:08.920056",
     "status": "completed"
    },
    "tags": []
   },
   "outputs": [
    {
     "data": {
      "text/html": [
       "<div>\n",
       "<style scoped>\n",
       "    .dataframe tbody tr th:only-of-type {\n",
       "        vertical-align: middle;\n",
       "    }\n",
       "\n",
       "    .dataframe tbody tr th {\n",
       "        vertical-align: top;\n",
       "    }\n",
       "\n",
       "    .dataframe thead th {\n",
       "        text-align: right;\n",
       "    }\n",
       "</style>\n",
       "<table border=\"1\" class=\"dataframe\">\n",
       "  <thead>\n",
       "    <tr style=\"text-align: right;\">\n",
       "      <th></th>\n",
       "      <th>Impression</th>\n",
       "      <th>Click</th>\n",
       "      <th>Purchase</th>\n",
       "      <th>Earning</th>\n",
       "    </tr>\n",
       "  </thead>\n",
       "  <tbody>\n",
       "    <tr>\n",
       "      <th>0</th>\n",
       "      <td>120103.50380</td>\n",
       "      <td>3216.54796</td>\n",
       "      <td>702.16035</td>\n",
       "      <td>1939.61124</td>\n",
       "    </tr>\n",
       "    <tr>\n",
       "      <th>1</th>\n",
       "      <td>134775.94336</td>\n",
       "      <td>3635.08242</td>\n",
       "      <td>834.05429</td>\n",
       "      <td>2929.40582</td>\n",
       "    </tr>\n",
       "    <tr>\n",
       "      <th>2</th>\n",
       "      <td>107806.62079</td>\n",
       "      <td>3057.14356</td>\n",
       "      <td>422.93426</td>\n",
       "      <td>2526.24488</td>\n",
       "    </tr>\n",
       "    <tr>\n",
       "      <th>3</th>\n",
       "      <td>116445.27553</td>\n",
       "      <td>4650.47391</td>\n",
       "      <td>429.03353</td>\n",
       "      <td>2281.42857</td>\n",
       "    </tr>\n",
       "    <tr>\n",
       "      <th>4</th>\n",
       "      <td>145082.51684</td>\n",
       "      <td>5201.38772</td>\n",
       "      <td>749.86044</td>\n",
       "      <td>2781.69752</td>\n",
       "    </tr>\n",
       "  </tbody>\n",
       "</table>\n",
       "</div>"
      ],
      "text/plain": [
       "    Impression      Click  Purchase    Earning\n",
       "0 120103.50380 3216.54796 702.16035 1939.61124\n",
       "1 134775.94336 3635.08242 834.05429 2929.40582\n",
       "2 107806.62079 3057.14356 422.93426 2526.24488\n",
       "3 116445.27553 4650.47391 429.03353 2281.42857\n",
       "4 145082.51684 5201.38772 749.86044 2781.69752"
      ]
     },
     "execution_count": 9,
     "metadata": {},
     "output_type": "execute_result"
    }
   ],
   "source": [
    "df_test.head()"
   ]
  },
  {
   "cell_type": "code",
   "execution_count": 10,
   "id": "446131d6",
   "metadata": {
    "execution": {
     "iopub.execute_input": "2024-09-15T14:51:08.968805Z",
     "iopub.status.busy": "2024-09-15T14:51:08.968393Z",
     "iopub.status.idle": "2024-09-15T14:51:08.976076Z",
     "shell.execute_reply": "2024-09-15T14:51:08.974947Z"
    },
    "papermill": {
     "duration": 0.022241,
     "end_time": "2024-09-15T14:51:08.978842",
     "exception": false,
     "start_time": "2024-09-15T14:51:08.956601",
     "status": "completed"
    },
    "tags": []
   },
   "outputs": [
    {
     "data": {
      "text/plain": [
       "(40, 4)"
      ]
     },
     "execution_count": 10,
     "metadata": {},
     "output_type": "execute_result"
    }
   ],
   "source": [
    "df_test.shape"
   ]
  },
  {
   "cell_type": "code",
   "execution_count": 11,
   "id": "15703397",
   "metadata": {
    "execution": {
     "iopub.execute_input": "2024-09-15T14:51:09.002089Z",
     "iopub.status.busy": "2024-09-15T14:51:09.001696Z",
     "iopub.status.idle": "2024-09-15T14:51:09.013609Z",
     "shell.execute_reply": "2024-09-15T14:51:09.012513Z"
    },
    "papermill": {
     "duration": 0.026737,
     "end_time": "2024-09-15T14:51:09.016458",
     "exception": false,
     "start_time": "2024-09-15T14:51:08.989721",
     "status": "completed"
    },
    "tags": []
   },
   "outputs": [
    {
     "name": "stdout",
     "output_type": "stream",
     "text": [
      "<class 'pandas.core.frame.DataFrame'>\n",
      "RangeIndex: 40 entries, 0 to 39\n",
      "Data columns (total 4 columns):\n",
      " #   Column      Non-Null Count  Dtype  \n",
      "---  ------      --------------  -----  \n",
      " 0   Impression  40 non-null     float64\n",
      " 1   Click       40 non-null     float64\n",
      " 2   Purchase    40 non-null     float64\n",
      " 3   Earning     40 non-null     float64\n",
      "dtypes: float64(4)\n",
      "memory usage: 1.4 KB\n"
     ]
    }
   ],
   "source": [
    "df_test.info()\n"
   ]
  },
  {
   "cell_type": "code",
   "execution_count": 12,
   "id": "e01f0bb6",
   "metadata": {
    "execution": {
     "iopub.execute_input": "2024-09-15T14:51:09.039201Z",
     "iopub.status.busy": "2024-09-15T14:51:09.038739Z",
     "iopub.status.idle": "2024-09-15T14:51:09.049066Z",
     "shell.execute_reply": "2024-09-15T14:51:09.047635Z"
    },
    "papermill": {
     "duration": 0.024912,
     "end_time": "2024-09-15T14:51:09.051795",
     "exception": false,
     "start_time": "2024-09-15T14:51:09.026883",
     "status": "completed"
    },
    "tags": []
   },
   "outputs": [
    {
     "data": {
      "text/plain": [
       "Impression    0\n",
       "Click         0\n",
       "Purchase      0\n",
       "Earning       0\n",
       "dtype: int64"
      ]
     },
     "execution_count": 12,
     "metadata": {},
     "output_type": "execute_result"
    }
   ],
   "source": [
    "df_test.isnull().sum()"
   ]
  },
  {
   "cell_type": "code",
   "execution_count": 13,
   "id": "249bc8e6",
   "metadata": {
    "execution": {
     "iopub.execute_input": "2024-09-15T14:51:09.075317Z",
     "iopub.status.busy": "2024-09-15T14:51:09.074837Z",
     "iopub.status.idle": "2024-09-15T14:51:09.098524Z",
     "shell.execute_reply": "2024-09-15T14:51:09.097333Z"
    },
    "papermill": {
     "duration": 0.038545,
     "end_time": "2024-09-15T14:51:09.101107",
     "exception": false,
     "start_time": "2024-09-15T14:51:09.062562",
     "status": "completed"
    },
    "tags": []
   },
   "outputs": [
    {
     "data": {
      "text/html": [
       "<div>\n",
       "<style scoped>\n",
       "    .dataframe tbody tr th:only-of-type {\n",
       "        vertical-align: middle;\n",
       "    }\n",
       "\n",
       "    .dataframe tbody tr th {\n",
       "        vertical-align: top;\n",
       "    }\n",
       "\n",
       "    .dataframe thead th {\n",
       "        text-align: right;\n",
       "    }\n",
       "</style>\n",
       "<table border=\"1\" class=\"dataframe\">\n",
       "  <thead>\n",
       "    <tr style=\"text-align: right;\">\n",
       "      <th></th>\n",
       "      <th>count</th>\n",
       "      <th>mean</th>\n",
       "      <th>std</th>\n",
       "      <th>min</th>\n",
       "      <th>25%</th>\n",
       "      <th>50%</th>\n",
       "      <th>75%</th>\n",
       "      <th>max</th>\n",
       "    </tr>\n",
       "  </thead>\n",
       "  <tbody>\n",
       "    <tr>\n",
       "      <th>Impression</th>\n",
       "      <td>40.00000</td>\n",
       "      <td>120512.41176</td>\n",
       "      <td>18807.44871</td>\n",
       "      <td>79033.83492</td>\n",
       "      <td>112691.97077</td>\n",
       "      <td>119291.30077</td>\n",
       "      <td>132050.57893</td>\n",
       "      <td>158605.92048</td>\n",
       "    </tr>\n",
       "    <tr>\n",
       "      <th>Click</th>\n",
       "      <td>40.00000</td>\n",
       "      <td>3967.54976</td>\n",
       "      <td>923.09507</td>\n",
       "      <td>1836.62986</td>\n",
       "      <td>3376.81902</td>\n",
       "      <td>3931.35980</td>\n",
       "      <td>4660.49791</td>\n",
       "      <td>6019.69508</td>\n",
       "    </tr>\n",
       "    <tr>\n",
       "      <th>Purchase</th>\n",
       "      <td>40.00000</td>\n",
       "      <td>582.10610</td>\n",
       "      <td>161.15251</td>\n",
       "      <td>311.62952</td>\n",
       "      <td>444.62683</td>\n",
       "      <td>551.35573</td>\n",
       "      <td>699.86236</td>\n",
       "      <td>889.91046</td>\n",
       "    </tr>\n",
       "    <tr>\n",
       "      <th>Earning</th>\n",
       "      <td>40.00000</td>\n",
       "      <td>2514.89073</td>\n",
       "      <td>282.73085</td>\n",
       "      <td>1939.61124</td>\n",
       "      <td>2280.53743</td>\n",
       "      <td>2544.66611</td>\n",
       "      <td>2761.54540</td>\n",
       "      <td>3171.48971</td>\n",
       "    </tr>\n",
       "  </tbody>\n",
       "</table>\n",
       "</div>"
      ],
      "text/plain": [
       "              count         mean         std         min          25%          50%          75%          max\n",
       "Impression 40.00000 120512.41176 18807.44871 79033.83492 112691.97077 119291.30077 132050.57893 158605.92048\n",
       "Click      40.00000   3967.54976   923.09507  1836.62986   3376.81902   3931.35980   4660.49791   6019.69508\n",
       "Purchase   40.00000    582.10610   161.15251   311.62952    444.62683    551.35573    699.86236    889.91046\n",
       "Earning    40.00000   2514.89073   282.73085  1939.61124   2280.53743   2544.66611   2761.54540   3171.48971"
      ]
     },
     "execution_count": 13,
     "metadata": {},
     "output_type": "execute_result"
    }
   ],
   "source": [
    "df_test.describe().T"
   ]
  },
  {
   "cell_type": "code",
   "execution_count": 14,
   "id": "2a52066c",
   "metadata": {
    "execution": {
     "iopub.execute_input": "2024-09-15T14:51:09.124841Z",
     "iopub.status.busy": "2024-09-15T14:51:09.124392Z",
     "iopub.status.idle": "2024-09-15T14:51:09.131470Z",
     "shell.execute_reply": "2024-09-15T14:51:09.130237Z"
    },
    "papermill": {
     "duration": 0.021747,
     "end_time": "2024-09-15T14:51:09.133983",
     "exception": false,
     "start_time": "2024-09-15T14:51:09.112236",
     "status": "completed"
    },
    "tags": []
   },
   "outputs": [],
   "source": [
    "df_control[\"Group_Name\"]=\"Control\"\n",
    "df_test[\"Group_Name\"]=\"Test\""
   ]
  },
  {
   "cell_type": "code",
   "execution_count": 15,
   "id": "5f57cffd",
   "metadata": {
    "execution": {
     "iopub.execute_input": "2024-09-15T14:51:09.158433Z",
     "iopub.status.busy": "2024-09-15T14:51:09.157199Z",
     "iopub.status.idle": "2024-09-15T14:51:09.163826Z",
     "shell.execute_reply": "2024-09-15T14:51:09.162592Z"
    },
    "papermill": {
     "duration": 0.021435,
     "end_time": "2024-09-15T14:51:09.166366",
     "exception": false,
     "start_time": "2024-09-15T14:51:09.144931",
     "status": "completed"
    },
    "tags": []
   },
   "outputs": [],
   "source": [
    "df = pd.concat([df_control, df_test], ignore_index=True)"
   ]
  },
  {
   "cell_type": "code",
   "execution_count": 16,
   "id": "4b7a2be6",
   "metadata": {
    "execution": {
     "iopub.execute_input": "2024-09-15T14:51:09.189825Z",
     "iopub.status.busy": "2024-09-15T14:51:09.189390Z",
     "iopub.status.idle": "2024-09-15T14:51:09.202296Z",
     "shell.execute_reply": "2024-09-15T14:51:09.201007Z"
    },
    "papermill": {
     "duration": 0.027363,
     "end_time": "2024-09-15T14:51:09.204672",
     "exception": false,
     "start_time": "2024-09-15T14:51:09.177309",
     "status": "completed"
    },
    "tags": []
   },
   "outputs": [
    {
     "data": {
      "text/html": [
       "<div>\n",
       "<style scoped>\n",
       "    .dataframe tbody tr th:only-of-type {\n",
       "        vertical-align: middle;\n",
       "    }\n",
       "\n",
       "    .dataframe tbody tr th {\n",
       "        vertical-align: top;\n",
       "    }\n",
       "\n",
       "    .dataframe thead th {\n",
       "        text-align: right;\n",
       "    }\n",
       "</style>\n",
       "<table border=\"1\" class=\"dataframe\">\n",
       "  <thead>\n",
       "    <tr style=\"text-align: right;\">\n",
       "      <th></th>\n",
       "      <th>Impression</th>\n",
       "      <th>Click</th>\n",
       "      <th>Purchase</th>\n",
       "      <th>Earning</th>\n",
       "      <th>Group_Name</th>\n",
       "    </tr>\n",
       "  </thead>\n",
       "  <tbody>\n",
       "    <tr>\n",
       "      <th>0</th>\n",
       "      <td>82529.45927</td>\n",
       "      <td>6090.07732</td>\n",
       "      <td>665.21125</td>\n",
       "      <td>2311.27714</td>\n",
       "      <td>Control</td>\n",
       "    </tr>\n",
       "    <tr>\n",
       "      <th>1</th>\n",
       "      <td>98050.45193</td>\n",
       "      <td>3382.86179</td>\n",
       "      <td>315.08489</td>\n",
       "      <td>1742.80686</td>\n",
       "      <td>Control</td>\n",
       "    </tr>\n",
       "    <tr>\n",
       "      <th>2</th>\n",
       "      <td>82696.02355</td>\n",
       "      <td>4167.96575</td>\n",
       "      <td>458.08374</td>\n",
       "      <td>1797.82745</td>\n",
       "      <td>Control</td>\n",
       "    </tr>\n",
       "    <tr>\n",
       "      <th>3</th>\n",
       "      <td>109914.40040</td>\n",
       "      <td>4910.88224</td>\n",
       "      <td>487.09077</td>\n",
       "      <td>1696.22918</td>\n",
       "      <td>Control</td>\n",
       "    </tr>\n",
       "    <tr>\n",
       "      <th>4</th>\n",
       "      <td>108457.76263</td>\n",
       "      <td>5987.65581</td>\n",
       "      <td>441.03405</td>\n",
       "      <td>1543.72018</td>\n",
       "      <td>Control</td>\n",
       "    </tr>\n",
       "  </tbody>\n",
       "</table>\n",
       "</div>"
      ],
      "text/plain": [
       "    Impression      Click  Purchase    Earning Group_Name\n",
       "0  82529.45927 6090.07732 665.21125 2311.27714    Control\n",
       "1  98050.45193 3382.86179 315.08489 1742.80686    Control\n",
       "2  82696.02355 4167.96575 458.08374 1797.82745    Control\n",
       "3 109914.40040 4910.88224 487.09077 1696.22918    Control\n",
       "4 108457.76263 5987.65581 441.03405 1543.72018    Control"
      ]
     },
     "execution_count": 16,
     "metadata": {},
     "output_type": "execute_result"
    }
   ],
   "source": [
    "df.head()"
   ]
  },
  {
   "cell_type": "code",
   "execution_count": 17,
   "id": "0d0ec062",
   "metadata": {
    "execution": {
     "iopub.execute_input": "2024-09-15T14:51:09.228912Z",
     "iopub.status.busy": "2024-09-15T14:51:09.228516Z",
     "iopub.status.idle": "2024-09-15T14:51:09.241807Z",
     "shell.execute_reply": "2024-09-15T14:51:09.240531Z"
    },
    "papermill": {
     "duration": 0.028748,
     "end_time": "2024-09-15T14:51:09.244602",
     "exception": false,
     "start_time": "2024-09-15T14:51:09.215854",
     "status": "completed"
    },
    "tags": []
   },
   "outputs": [
    {
     "data": {
      "text/html": [
       "<div>\n",
       "<style scoped>\n",
       "    .dataframe tbody tr th:only-of-type {\n",
       "        vertical-align: middle;\n",
       "    }\n",
       "\n",
       "    .dataframe tbody tr th {\n",
       "        vertical-align: top;\n",
       "    }\n",
       "\n",
       "    .dataframe thead th {\n",
       "        text-align: right;\n",
       "    }\n",
       "</style>\n",
       "<table border=\"1\" class=\"dataframe\">\n",
       "  <thead>\n",
       "    <tr style=\"text-align: right;\">\n",
       "      <th></th>\n",
       "      <th>Impression</th>\n",
       "      <th>Click</th>\n",
       "      <th>Purchase</th>\n",
       "      <th>Earning</th>\n",
       "      <th>Group_Name</th>\n",
       "    </tr>\n",
       "  </thead>\n",
       "  <tbody>\n",
       "    <tr>\n",
       "      <th>75</th>\n",
       "      <td>79234.91193</td>\n",
       "      <td>6002.21358</td>\n",
       "      <td>382.04712</td>\n",
       "      <td>2277.86398</td>\n",
       "      <td>Test</td>\n",
       "    </tr>\n",
       "    <tr>\n",
       "      <th>76</th>\n",
       "      <td>130702.23941</td>\n",
       "      <td>3626.32007</td>\n",
       "      <td>449.82459</td>\n",
       "      <td>2530.84133</td>\n",
       "      <td>Test</td>\n",
       "    </tr>\n",
       "    <tr>\n",
       "      <th>77</th>\n",
       "      <td>116481.87337</td>\n",
       "      <td>4702.78247</td>\n",
       "      <td>472.45373</td>\n",
       "      <td>2597.91763</td>\n",
       "      <td>Test</td>\n",
       "    </tr>\n",
       "    <tr>\n",
       "      <th>78</th>\n",
       "      <td>79033.83492</td>\n",
       "      <td>4495.42818</td>\n",
       "      <td>425.35910</td>\n",
       "      <td>2595.85788</td>\n",
       "      <td>Test</td>\n",
       "    </tr>\n",
       "    <tr>\n",
       "      <th>79</th>\n",
       "      <td>102257.45409</td>\n",
       "      <td>4800.06832</td>\n",
       "      <td>521.31073</td>\n",
       "      <td>2967.51839</td>\n",
       "      <td>Test</td>\n",
       "    </tr>\n",
       "  </tbody>\n",
       "</table>\n",
       "</div>"
      ],
      "text/plain": [
       "     Impression      Click  Purchase    Earning Group_Name\n",
       "75  79234.91193 6002.21358 382.04712 2277.86398       Test\n",
       "76 130702.23941 3626.32007 449.82459 2530.84133       Test\n",
       "77 116481.87337 4702.78247 472.45373 2597.91763       Test\n",
       "78  79033.83492 4495.42818 425.35910 2595.85788       Test\n",
       "79 102257.45409 4800.06832 521.31073 2967.51839       Test"
      ]
     },
     "execution_count": 17,
     "metadata": {},
     "output_type": "execute_result"
    }
   ],
   "source": [
    "df.tail()"
   ]
  },
  {
   "cell_type": "code",
   "execution_count": 18,
   "id": "0747c556",
   "metadata": {
    "execution": {
     "iopub.execute_input": "2024-09-15T14:51:09.268911Z",
     "iopub.status.busy": "2024-09-15T14:51:09.268497Z",
     "iopub.status.idle": "2024-09-15T14:51:09.275807Z",
     "shell.execute_reply": "2024-09-15T14:51:09.274688Z"
    },
    "papermill": {
     "duration": 0.022338,
     "end_time": "2024-09-15T14:51:09.278283",
     "exception": false,
     "start_time": "2024-09-15T14:51:09.255945",
     "status": "completed"
    },
    "tags": []
   },
   "outputs": [
    {
     "data": {
      "text/plain": [
       "(80, 5)"
      ]
     },
     "execution_count": 18,
     "metadata": {},
     "output_type": "execute_result"
    }
   ],
   "source": [
    "df.shape"
   ]
  },
  {
   "cell_type": "markdown",
   "id": "329af151",
   "metadata": {
    "papermill": {
     "duration": 0.011323,
     "end_time": "2024-09-15T14:51:09.301127",
     "exception": false,
     "start_time": "2024-09-15T14:51:09.289804",
     "status": "completed"
    },
    "tags": []
   },
   "source": [
    "<div style=\"text-align: center; font-size: 18px; font-weight: bold; color: purple;\">\n",
    "    Defining the Hypothesis of the A/B Test\n",
    "</div>\n",
    "\n"
   ]
  },
  {
   "cell_type": "markdown",
   "id": "426baee6",
   "metadata": {
    "papermill": {
     "duration": 0.011425,
     "end_time": "2024-09-15T14:51:09.324632",
     "exception": false,
     "start_time": "2024-09-15T14:51:09.313207",
     "status": "completed"
    },
    "tags": []
   },
   "source": [
    "#H0: M1 = M2 There is NO statistically significant difference between the average purchase of the Control Group / \"Maximum Bidding\" and the Test Group /  \"Average Bidding\"\n",
    "\n",
    "\n",
    "#H0: M1 != M2 M2 There is a statistically significant difference between the average purchase of the Control Group / \"Maximum Bidding\" and the Test Group /  \"Average Bidding\""
   ]
  },
  {
   "cell_type": "code",
   "execution_count": 19,
   "id": "c6995b57",
   "metadata": {
    "execution": {
     "iopub.execute_input": "2024-09-15T14:51:09.349662Z",
     "iopub.status.busy": "2024-09-15T14:51:09.349213Z",
     "iopub.status.idle": "2024-09-15T14:51:09.361646Z",
     "shell.execute_reply": "2024-09-15T14:51:09.360284Z"
    },
    "papermill": {
     "duration": 0.028335,
     "end_time": "2024-09-15T14:51:09.364712",
     "exception": false,
     "start_time": "2024-09-15T14:51:09.336377",
     "status": "completed"
    },
    "tags": []
   },
   "outputs": [
    {
     "name": "stdout",
     "output_type": "stream",
     "text": [
      "Mean for \"Purchase\" within the dataset \"control_group\" has been calculated as: 550.8941\n",
      "Mean for \"Purchase\" within the dataset \"test_group\"  has been calculated as: 582.1061\n"
     ]
    }
   ],
   "source": [
    "df.groupby(\"Group_Name\").agg({\"Purchase\": \"mean\"})\n",
    "\n",
    "print('Mean for \"Purchase\" within the dataset \"control_group\" has been calculated as: %.4f' % df_control[\"Purchase\"].mean())\n",
    "print('Mean for \"Purchase\" within the dataset \"test_group\"  has been calculated as: %.4f' % df_test[\"Purchase\"].mean())"
   ]
  },
  {
   "cell_type": "code",
   "execution_count": 20,
   "id": "6548166a",
   "metadata": {
    "execution": {
     "iopub.execute_input": "2024-09-15T14:51:09.390428Z",
     "iopub.status.busy": "2024-09-15T14:51:09.389595Z",
     "iopub.status.idle": "2024-09-15T14:51:09.401900Z",
     "shell.execute_reply": "2024-09-15T14:51:09.400670Z"
    },
    "papermill": {
     "duration": 0.027877,
     "end_time": "2024-09-15T14:51:09.404509",
     "exception": false,
     "start_time": "2024-09-15T14:51:09.376632",
     "status": "completed"
    },
    "tags": []
   },
   "outputs": [
    {
     "name": "stdout",
     "output_type": "stream",
     "text": [
      "Test Stat = 0.9773, p-value = 0.5891\n",
      "Test Stat = 0.9589, p-value = 0.1541\n"
     ]
    }
   ],
   "source": [
    "# NORMALITY ASSUMPTION\n",
    "# H0: The assumption of normal distribution is being met\n",
    "# H1: The assumption of normal distribution is NOT met\n",
    "\n",
    "# p-value < 0.05 ==> H0 is rejected\n",
    "# p-value > 0.05 ==> H0 is NOT rejected\n",
    "\n",
    "test_stat, pvalue = shapiro(df.loc[df[\"Group_Name\"] == \"Control\", \"Purchase\"])\n",
    "print('Test Stat = %.4f, p-value = %.4f' % (test_stat, pvalue))\n",
    "\n",
    "test_stat, pvalue = shapiro(df.loc[df[\"Group_Name\"] == \"Test\", \"Purchase\"])\n",
    "print('Test Stat = %.4f, p-value = %.4f' % (test_stat, pvalue))"
   ]
  },
  {
   "cell_type": "code",
   "execution_count": 21,
   "id": "7f164b6a",
   "metadata": {
    "execution": {
     "iopub.execute_input": "2024-09-15T14:51:09.430500Z",
     "iopub.status.busy": "2024-09-15T14:51:09.429989Z",
     "iopub.status.idle": "2024-09-15T14:51:09.443733Z",
     "shell.execute_reply": "2024-09-15T14:51:09.442504Z"
    },
    "papermill": {
     "duration": 0.029796,
     "end_time": "2024-09-15T14:51:09.446508",
     "exception": false,
     "start_time": "2024-09-15T14:51:09.416712",
     "status": "completed"
    },
    "tags": []
   },
   "outputs": [
    {
     "name": "stdout",
     "output_type": "stream",
     "text": [
      "Test Stat = 2.6393, p-value = 0.1083\n"
     ]
    }
   ],
   "source": [
    "# VARIANCE ASSUMPTION\n",
    "#H0: M1 = M2 Variances are Homogeneous\n",
    "#H1: M1 = M2 Variances are not Homogeneous\n",
    "\n",
    "# p-value < 0.05 ==> H0 is rejected\n",
    "# p-value > 0.05 ==> H0 is NOT rejected\n",
    "\n",
    "test_stat, pvalue = levene(df.loc[df[\"Group_Name\"] == \"Control\", \"Purchase\"],\n",
    "                           df.loc[df[\"Group_Name\"] == \"Test\", \"Purchase\"])\n",
    "\n",
    "print('Test Stat = %.4f, p-value = %.4f' % (test_stat, pvalue))"
   ]
  },
  {
   "cell_type": "code",
   "execution_count": 22,
   "id": "21f65f66",
   "metadata": {
    "execution": {
     "iopub.execute_input": "2024-09-15T14:51:09.473542Z",
     "iopub.status.busy": "2024-09-15T14:51:09.473058Z",
     "iopub.status.idle": "2024-09-15T14:51:09.486307Z",
     "shell.execute_reply": "2024-09-15T14:51:09.485066Z"
    },
    "papermill": {
     "duration": 0.028981,
     "end_time": "2024-09-15T14:51:09.488747",
     "exception": false,
     "start_time": "2024-09-15T14:51:09.459766",
     "status": "completed"
    },
    "tags": []
   },
   "outputs": [
    {
     "name": "stdout",
     "output_type": "stream",
     "text": [
      "Test Stat = -0.9416, p-value = 0.3493\n"
     ]
    }
   ],
   "source": [
    "#Since (p-value = 0.3493) > 0.05, H0 cannot be rejected!\n",
    "\n",
    "#H0: M1 = M2 There is NO statistically significant difference between the average purchase of the Control Group / \"Maximum Bidding\" and the Test Group / \"Average Bidding\"\n",
    "\n",
    "#H0: M1 != M2 M2 There is a statistically significant difference between the average purchase of the Control Group / \"Maximum Bidding\" and the Test Group / \"Average Bidding\"\n",
    "\n",
    "\n",
    "# p-value < 0.05 ==> H0 is rejected\n",
    "# p-value > 0.05 ==> H0 is NOT rejected\n",
    "\n",
    "test_stat, pvalue = ttest_ind(df.loc[df[\"Group_Name\"] == \"Control\", \"Purchase\"],\n",
    "                              df.loc[df[\"Group_Name\"] == \"Test\", \"Purchase\"],\n",
    "                              equal_var=True)\n",
    "print('Test Stat = %.4f, p-value = %.4f' % (test_stat, pvalue))"
   ]
  },
  {
   "cell_type": "markdown",
   "id": "45a75daa",
   "metadata": {
    "papermill": {
     "duration": 0.011568,
     "end_time": "2024-09-15T14:51:09.512329",
     "exception": false,
     "start_time": "2024-09-15T14:51:09.500761",
     "status": "completed"
    },
    "tags": []
   },
   "source": [
    "<div style=\"text-align: center; font-size: 16px; font-weight: bold; color: purple;\">\n",
    "    Analysis of A/B Testing Results\n",
    "</div>\n",
    "\n",
    "\n",
    "Since both Normality Assumption and Variance Assumption are met (H0 not rejected), I chose to use \"Independent two-sample t-test (ttest_ind) - parametric\"\n",
    "\n",
    "If one them wasn't met, I was gonna use \"mannwhitneyu - non-parametric test\""
   ]
  }
 ],
 "metadata": {
  "kaggle": {
   "accelerator": "none",
   "dataSources": [
    {
     "datasetId": 5708683,
     "sourceId": 9403470,
     "sourceType": "datasetVersion"
    }
   ],
   "dockerImageVersionId": 30761,
   "isGpuEnabled": false,
   "isInternetEnabled": true,
   "language": "python",
   "sourceType": "notebook"
  },
  "kernelspec": {
   "display_name": "Python 3",
   "language": "python",
   "name": "python3"
  },
  "language_info": {
   "codemirror_mode": {
    "name": "ipython",
    "version": 3
   },
   "file_extension": ".py",
   "mimetype": "text/x-python",
   "name": "python",
   "nbconvert_exporter": "python",
   "pygments_lexer": "ipython3",
   "version": "3.10.14"
  },
  "papermill": {
   "default_parameters": {},
   "duration": 24.360418,
   "end_time": "2024-09-15T14:51:10.246728",
   "environment_variables": {},
   "exception": null,
   "input_path": "__notebook__.ipynb",
   "output_path": "__notebook__.ipynb",
   "parameters": {},
   "start_time": "2024-09-15T14:50:45.886310",
   "version": "2.6.0"
  }
 },
 "nbformat": 4,
 "nbformat_minor": 5
}
