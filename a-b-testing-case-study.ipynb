{
 "cells": [
  {
   "cell_type": "markdown",
   "id": "78fa7110",
   "metadata": {
    "papermill": {
     "duration": 0.011991,
     "end_time": "2024-10-02T19:42:36.842279",
     "exception": false,
     "start_time": "2024-10-02T19:42:36.830288",
     "status": "completed"
    },
    "tags": []
   },
   "source": [
    "<div style=\"text-align: center; font-size: 24px; font-weight: bold; color: purple;\">\n",
    "    AB Testing Case Study\n",
    "</div>"
   ]
  },
  {
   "cell_type": "markdown",
   "id": "5e5337da",
   "metadata": {
    "papermill": {
     "duration": 0.010947,
     "end_time": "2024-10-02T19:42:36.864000",
     "exception": false,
     "start_time": "2024-10-02T19:42:36.853053",
     "status": "completed"
    },
    "tags": []
   },
   "source": [
    "Case Description;\n",
    "\n",
    "Facebook recently introduced a new bidding type called 'average bidding' as an alternative to the existing 'maximum bidding' method. \n",
    "\n",
    "One of our clients, bombabomba.com, decided to test this new feature and wants to understand whether average bidding brings more conversions than maximum bidding through an A/B test. \n",
    "\n",
    "The A/B test has been running for a month, and bombabomba.com is now expecting you to analyze the results of this A/B test. \n",
    "\n",
    "The ultimate success metric for bombabomba.com is Purchase. Therefore, statistical tests should focus on the \"Purchase\" metric.\n",
    "\n",
    "\n",
    "The dataset, which contains information about the company's website, includes details such as the number of ads users have seen and clicked on, as well as revenue generated from these interactions. \n",
    "\n",
    "There are two separate datasets: Control and Test groups. These datasets are located on different sheets of the ab_testing.xlsx Excel file. \n",
    "\n",
    "Maximum Bidding was applied to the Control group, and Average Bidding was applied to the Test group.\n",
    "\n",
    "Data Dictionary:\n",
    "\n",
    "| **Metric**   | **Description**                                          |\n",
    "|--------------|----------------------------------------------------------|\n",
    "| Impression   | The number of times an ad was displayed                  |\n",
    "| Click        | The number of clicks on the displayed ad                 |\n",
    "| Purchase     | The number of products purchased after clicking the ad   |\n",
    "| Earning      | Revenue generated from the purchased products            |\n"
   ]
  },
  {
   "cell_type": "code",
   "execution_count": 1,
   "id": "2fd39a72",
   "metadata": {
    "execution": {
     "iopub.execute_input": "2024-10-02T19:42:36.889778Z",
     "iopub.status.busy": "2024-10-02T19:42:36.888580Z",
     "iopub.status.idle": "2024-10-02T19:42:57.322855Z",
     "shell.execute_reply": "2024-10-02T19:42:57.321515Z"
    },
    "papermill": {
     "duration": 20.450269,
     "end_time": "2024-10-02T19:42:57.325774",
     "exception": false,
     "start_time": "2024-10-02T19:42:36.875505",
     "status": "completed"
    },
    "tags": []
   },
   "outputs": [
    {
     "name": "stdout",
     "output_type": "stream",
     "text": [
      "Requirement already satisfied: statsmodels in /opt/conda/lib/python3.10/site-packages (0.14.2)\r\n",
      "Requirement already satisfied: numpy>=1.22.3 in /opt/conda/lib/python3.10/site-packages (from statsmodels) (1.26.4)\r\n",
      "Requirement already satisfied: scipy!=1.9.2,>=1.8 in /opt/conda/lib/python3.10/site-packages (from statsmodels) (1.14.0)\r\n",
      "Requirement already satisfied: pandas!=2.1.0,>=1.4 in /opt/conda/lib/python3.10/site-packages (from statsmodels) (2.2.2)\r\n",
      "Requirement already satisfied: patsy>=0.5.6 in /opt/conda/lib/python3.10/site-packages (from statsmodels) (0.5.6)\r\n",
      "Requirement already satisfied: packaging>=21.3 in /opt/conda/lib/python3.10/site-packages (from statsmodels) (21.3)\r\n",
      "Requirement already satisfied: pyparsing!=3.0.5,>=2.0.2 in /opt/conda/lib/python3.10/site-packages (from packaging>=21.3->statsmodels) (3.1.2)\r\n",
      "Requirement already satisfied: python-dateutil>=2.8.2 in /opt/conda/lib/python3.10/site-packages (from pandas!=2.1.0,>=1.4->statsmodels) (2.9.0.post0)\r\n",
      "Requirement already satisfied: pytz>=2020.1 in /opt/conda/lib/python3.10/site-packages (from pandas!=2.1.0,>=1.4->statsmodels) (2024.1)\r\n",
      "Requirement already satisfied: tzdata>=2022.7 in /opt/conda/lib/python3.10/site-packages (from pandas!=2.1.0,>=1.4->statsmodels) (2024.1)\r\n",
      "Requirement already satisfied: six in /opt/conda/lib/python3.10/site-packages (from patsy>=0.5.6->statsmodels) (1.16.0)\r\n"
     ]
    }
   ],
   "source": [
    "import itertools\n",
    "import numpy as np\n",
    "import pandas as pd\n",
    "import matplotlib.pyplot as plt\n",
    "import seaborn as sns\n",
    "!pip install statsmodels\n",
    "import statsmodels.stats.api as sms\n",
    "from scipy.stats import ttest_1samp, shapiro, levene, ttest_ind, mannwhitneyu, \\\n",
    "    pearsonr, spearmanr, kendalltau, f_oneway, kruskal\n",
    "from statsmodels.stats.proportion import proportions_ztest\n",
    "\n",
    "pd.set_option('display.max_columns', None)\n",
    "pd.set_option('display.max_rows', 10)\n",
    "pd.set_option('display.width', 1000)\n",
    "pd.set_option('display.float_format', lambda x: '%.5f' % x)\n"
   ]
  },
  {
   "cell_type": "code",
   "execution_count": 2,
   "id": "d86fa151",
   "metadata": {
    "execution": {
     "iopub.execute_input": "2024-10-02T19:42:57.351087Z",
     "iopub.status.busy": "2024-10-02T19:42:57.349680Z",
     "iopub.status.idle": "2024-10-02T19:42:57.730023Z",
     "shell.execute_reply": "2024-10-02T19:42:57.728943Z"
    },
    "papermill": {
     "duration": 0.396319,
     "end_time": "2024-10-02T19:42:57.733104",
     "exception": false,
     "start_time": "2024-10-02T19:42:57.336785",
     "status": "completed"
    },
    "tags": []
   },
   "outputs": [],
   "source": [
    "df_control = pd.read_excel(\"/kaggle/input/ab-testing/ab_testing.xlsx\", sheet_name=\"Control Group\") #Maximum Bidding"
   ]
  },
  {
   "cell_type": "code",
   "execution_count": 3,
   "id": "dec95b06",
   "metadata": {
    "execution": {
     "iopub.execute_input": "2024-10-02T19:42:57.758225Z",
     "iopub.status.busy": "2024-10-02T19:42:57.757587Z",
     "iopub.status.idle": "2024-10-02T19:42:57.779207Z",
     "shell.execute_reply": "2024-10-02T19:42:57.778195Z"
    },
    "papermill": {
     "duration": 0.037311,
     "end_time": "2024-10-02T19:42:57.781788",
     "exception": false,
     "start_time": "2024-10-02T19:42:57.744477",
     "status": "completed"
    },
    "tags": []
   },
   "outputs": [
    {
     "data": {
      "text/html": [
       "<div>\n",
       "<style scoped>\n",
       "    .dataframe tbody tr th:only-of-type {\n",
       "        vertical-align: middle;\n",
       "    }\n",
       "\n",
       "    .dataframe tbody tr th {\n",
       "        vertical-align: top;\n",
       "    }\n",
       "\n",
       "    .dataframe thead th {\n",
       "        text-align: right;\n",
       "    }\n",
       "</style>\n",
       "<table border=\"1\" class=\"dataframe\">\n",
       "  <thead>\n",
       "    <tr style=\"text-align: right;\">\n",
       "      <th></th>\n",
       "      <th>Impression</th>\n",
       "      <th>Click</th>\n",
       "      <th>Purchase</th>\n",
       "      <th>Earning</th>\n",
       "    </tr>\n",
       "  </thead>\n",
       "  <tbody>\n",
       "    <tr>\n",
       "      <th>0</th>\n",
       "      <td>82529.45927</td>\n",
       "      <td>6090.07732</td>\n",
       "      <td>665.21125</td>\n",
       "      <td>2311.27714</td>\n",
       "    </tr>\n",
       "    <tr>\n",
       "      <th>1</th>\n",
       "      <td>98050.45193</td>\n",
       "      <td>3382.86179</td>\n",
       "      <td>315.08489</td>\n",
       "      <td>1742.80686</td>\n",
       "    </tr>\n",
       "    <tr>\n",
       "      <th>2</th>\n",
       "      <td>82696.02355</td>\n",
       "      <td>4167.96575</td>\n",
       "      <td>458.08374</td>\n",
       "      <td>1797.82745</td>\n",
       "    </tr>\n",
       "    <tr>\n",
       "      <th>3</th>\n",
       "      <td>109914.40040</td>\n",
       "      <td>4910.88224</td>\n",
       "      <td>487.09077</td>\n",
       "      <td>1696.22918</td>\n",
       "    </tr>\n",
       "    <tr>\n",
       "      <th>4</th>\n",
       "      <td>108457.76263</td>\n",
       "      <td>5987.65581</td>\n",
       "      <td>441.03405</td>\n",
       "      <td>1543.72018</td>\n",
       "    </tr>\n",
       "  </tbody>\n",
       "</table>\n",
       "</div>"
      ],
      "text/plain": [
       "    Impression      Click  Purchase    Earning\n",
       "0  82529.45927 6090.07732 665.21125 2311.27714\n",
       "1  98050.45193 3382.86179 315.08489 1742.80686\n",
       "2  82696.02355 4167.96575 458.08374 1797.82745\n",
       "3 109914.40040 4910.88224 487.09077 1696.22918\n",
       "4 108457.76263 5987.65581 441.03405 1543.72018"
      ]
     },
     "execution_count": 3,
     "metadata": {},
     "output_type": "execute_result"
    }
   ],
   "source": [
    "df_control.head()"
   ]
  },
  {
   "cell_type": "code",
   "execution_count": 4,
   "id": "b818776a",
   "metadata": {
    "execution": {
     "iopub.execute_input": "2024-10-02T19:42:57.806226Z",
     "iopub.status.busy": "2024-10-02T19:42:57.805768Z",
     "iopub.status.idle": "2024-10-02T19:42:57.813209Z",
     "shell.execute_reply": "2024-10-02T19:42:57.812095Z"
    },
    "papermill": {
     "duration": 0.022657,
     "end_time": "2024-10-02T19:42:57.815748",
     "exception": false,
     "start_time": "2024-10-02T19:42:57.793091",
     "status": "completed"
    },
    "tags": []
   },
   "outputs": [
    {
     "data": {
      "text/plain": [
       "(40, 4)"
      ]
     },
     "execution_count": 4,
     "metadata": {},
     "output_type": "execute_result"
    }
   ],
   "source": [
    "df_control.shape"
   ]
  },
  {
   "cell_type": "code",
   "execution_count": 5,
   "id": "e491f23c",
   "metadata": {
    "execution": {
     "iopub.execute_input": "2024-10-02T19:42:57.841161Z",
     "iopub.status.busy": "2024-10-02T19:42:57.840733Z",
     "iopub.status.idle": "2024-10-02T19:42:57.866916Z",
     "shell.execute_reply": "2024-10-02T19:42:57.865759Z"
    },
    "papermill": {
     "duration": 0.042208,
     "end_time": "2024-10-02T19:42:57.869842",
     "exception": false,
     "start_time": "2024-10-02T19:42:57.827634",
     "status": "completed"
    },
    "tags": []
   },
   "outputs": [
    {
     "name": "stdout",
     "output_type": "stream",
     "text": [
      "<class 'pandas.core.frame.DataFrame'>\n",
      "RangeIndex: 40 entries, 0 to 39\n",
      "Data columns (total 4 columns):\n",
      " #   Column      Non-Null Count  Dtype  \n",
      "---  ------      --------------  -----  \n",
      " 0   Impression  40 non-null     float64\n",
      " 1   Click       40 non-null     float64\n",
      " 2   Purchase    40 non-null     float64\n",
      " 3   Earning     40 non-null     float64\n",
      "dtypes: float64(4)\n",
      "memory usage: 1.4 KB\n"
     ]
    }
   ],
   "source": [
    "df_control.info()"
   ]
  },
  {
   "cell_type": "code",
   "execution_count": 6,
   "id": "3b9fbcee",
   "metadata": {
    "execution": {
     "iopub.execute_input": "2024-10-02T19:42:57.895100Z",
     "iopub.status.busy": "2024-10-02T19:42:57.894652Z",
     "iopub.status.idle": "2024-10-02T19:42:57.904216Z",
     "shell.execute_reply": "2024-10-02T19:42:57.903054Z"
    },
    "papermill": {
     "duration": 0.025116,
     "end_time": "2024-10-02T19:42:57.906587",
     "exception": false,
     "start_time": "2024-10-02T19:42:57.881471",
     "status": "completed"
    },
    "tags": []
   },
   "outputs": [
    {
     "data": {
      "text/plain": [
       "Impression    0\n",
       "Click         0\n",
       "Purchase      0\n",
       "Earning       0\n",
       "dtype: int64"
      ]
     },
     "execution_count": 6,
     "metadata": {},
     "output_type": "execute_result"
    }
   ],
   "source": [
    "df_control.isnull().sum()"
   ]
  },
  {
   "cell_type": "code",
   "execution_count": 7,
   "id": "1d0a7022",
   "metadata": {
    "execution": {
     "iopub.execute_input": "2024-10-02T19:42:57.932085Z",
     "iopub.status.busy": "2024-10-02T19:42:57.931636Z",
     "iopub.status.idle": "2024-10-02T19:42:57.960042Z",
     "shell.execute_reply": "2024-10-02T19:42:57.958749Z"
    },
    "papermill": {
     "duration": 0.044276,
     "end_time": "2024-10-02T19:42:57.962855",
     "exception": false,
     "start_time": "2024-10-02T19:42:57.918579",
     "status": "completed"
    },
    "tags": []
   },
   "outputs": [
    {
     "data": {
      "text/html": [
       "<div>\n",
       "<style scoped>\n",
       "    .dataframe tbody tr th:only-of-type {\n",
       "        vertical-align: middle;\n",
       "    }\n",
       "\n",
       "    .dataframe tbody tr th {\n",
       "        vertical-align: top;\n",
       "    }\n",
       "\n",
       "    .dataframe thead th {\n",
       "        text-align: right;\n",
       "    }\n",
       "</style>\n",
       "<table border=\"1\" class=\"dataframe\">\n",
       "  <thead>\n",
       "    <tr style=\"text-align: right;\">\n",
       "      <th></th>\n",
       "      <th>count</th>\n",
       "      <th>mean</th>\n",
       "      <th>std</th>\n",
       "      <th>min</th>\n",
       "      <th>25%</th>\n",
       "      <th>50%</th>\n",
       "      <th>75%</th>\n",
       "      <th>max</th>\n",
       "    </tr>\n",
       "  </thead>\n",
       "  <tbody>\n",
       "    <tr>\n",
       "      <th>Impression</th>\n",
       "      <td>40.00000</td>\n",
       "      <td>101711.44907</td>\n",
       "      <td>20302.15786</td>\n",
       "      <td>45475.94296</td>\n",
       "      <td>85726.69035</td>\n",
       "      <td>99790.70108</td>\n",
       "      <td>115212.81654</td>\n",
       "      <td>147539.33633</td>\n",
       "    </tr>\n",
       "    <tr>\n",
       "      <th>Click</th>\n",
       "      <td>40.00000</td>\n",
       "      <td>5100.65737</td>\n",
       "      <td>1329.98550</td>\n",
       "      <td>2189.75316</td>\n",
       "      <td>4124.30413</td>\n",
       "      <td>5001.22060</td>\n",
       "      <td>5923.80360</td>\n",
       "      <td>7959.12507</td>\n",
       "    </tr>\n",
       "    <tr>\n",
       "      <th>Purchase</th>\n",
       "      <td>40.00000</td>\n",
       "      <td>550.89406</td>\n",
       "      <td>134.10820</td>\n",
       "      <td>267.02894</td>\n",
       "      <td>470.09553</td>\n",
       "      <td>531.20631</td>\n",
       "      <td>637.95709</td>\n",
       "      <td>801.79502</td>\n",
       "    </tr>\n",
       "    <tr>\n",
       "      <th>Earning</th>\n",
       "      <td>40.00000</td>\n",
       "      <td>1908.56830</td>\n",
       "      <td>302.91778</td>\n",
       "      <td>1253.98952</td>\n",
       "      <td>1685.84720</td>\n",
       "      <td>1975.16052</td>\n",
       "      <td>2119.80278</td>\n",
       "      <td>2497.29522</td>\n",
       "    </tr>\n",
       "  </tbody>\n",
       "</table>\n",
       "</div>"
      ],
      "text/plain": [
       "              count         mean         std         min         25%         50%          75%          max\n",
       "Impression 40.00000 101711.44907 20302.15786 45475.94296 85726.69035 99790.70108 115212.81654 147539.33633\n",
       "Click      40.00000   5100.65737  1329.98550  2189.75316  4124.30413  5001.22060   5923.80360   7959.12507\n",
       "Purchase   40.00000    550.89406   134.10820   267.02894   470.09553   531.20631    637.95709    801.79502\n",
       "Earning    40.00000   1908.56830   302.91778  1253.98952  1685.84720  1975.16052   2119.80278   2497.29522"
      ]
     },
     "execution_count": 7,
     "metadata": {},
     "output_type": "execute_result"
    }
   ],
   "source": [
    "df_control.describe().T\n",
    "\n",
    "#No significant difference between Mean and Median, meaning there are no extreme outliers\n",
    "#Mean > Median; this indicates a right-skewed (positively skewed) distribution."
   ]
  },
  {
   "cell_type": "code",
   "execution_count": 8,
   "id": "c9d84273",
   "metadata": {
    "execution": {
     "iopub.execute_input": "2024-10-02T19:42:57.989132Z",
     "iopub.status.busy": "2024-10-02T19:42:57.988209Z",
     "iopub.status.idle": "2024-10-02T19:42:58.024656Z",
     "shell.execute_reply": "2024-10-02T19:42:58.023478Z"
    },
    "papermill": {
     "duration": 0.05282,
     "end_time": "2024-10-02T19:42:58.027657",
     "exception": false,
     "start_time": "2024-10-02T19:42:57.974837",
     "status": "completed"
    },
    "tags": []
   },
   "outputs": [],
   "source": [
    "df_test = pd.read_excel(\"/kaggle/input/ab-testing/ab_testing.xlsx\", sheet_name=\"Test Group\") #Average Bidding"
   ]
  },
  {
   "cell_type": "code",
   "execution_count": 9,
   "id": "087fd124",
   "metadata": {
    "execution": {
     "iopub.execute_input": "2024-10-02T19:42:58.054206Z",
     "iopub.status.busy": "2024-10-02T19:42:58.053782Z",
     "iopub.status.idle": "2024-10-02T19:42:58.067596Z",
     "shell.execute_reply": "2024-10-02T19:42:58.066268Z"
    },
    "papermill": {
     "duration": 0.03055,
     "end_time": "2024-10-02T19:42:58.070388",
     "exception": false,
     "start_time": "2024-10-02T19:42:58.039838",
     "status": "completed"
    },
    "tags": []
   },
   "outputs": [
    {
     "data": {
      "text/html": [
       "<div>\n",
       "<style scoped>\n",
       "    .dataframe tbody tr th:only-of-type {\n",
       "        vertical-align: middle;\n",
       "    }\n",
       "\n",
       "    .dataframe tbody tr th {\n",
       "        vertical-align: top;\n",
       "    }\n",
       "\n",
       "    .dataframe thead th {\n",
       "        text-align: right;\n",
       "    }\n",
       "</style>\n",
       "<table border=\"1\" class=\"dataframe\">\n",
       "  <thead>\n",
       "    <tr style=\"text-align: right;\">\n",
       "      <th></th>\n",
       "      <th>Impression</th>\n",
       "      <th>Click</th>\n",
       "      <th>Purchase</th>\n",
       "      <th>Earning</th>\n",
       "    </tr>\n",
       "  </thead>\n",
       "  <tbody>\n",
       "    <tr>\n",
       "      <th>0</th>\n",
       "      <td>120103.50380</td>\n",
       "      <td>3216.54796</td>\n",
       "      <td>702.16035</td>\n",
       "      <td>1939.61124</td>\n",
       "    </tr>\n",
       "    <tr>\n",
       "      <th>1</th>\n",
       "      <td>134775.94336</td>\n",
       "      <td>3635.08242</td>\n",
       "      <td>834.05429</td>\n",
       "      <td>2929.40582</td>\n",
       "    </tr>\n",
       "    <tr>\n",
       "      <th>2</th>\n",
       "      <td>107806.62079</td>\n",
       "      <td>3057.14356</td>\n",
       "      <td>422.93426</td>\n",
       "      <td>2526.24488</td>\n",
       "    </tr>\n",
       "    <tr>\n",
       "      <th>3</th>\n",
       "      <td>116445.27553</td>\n",
       "      <td>4650.47391</td>\n",
       "      <td>429.03353</td>\n",
       "      <td>2281.42857</td>\n",
       "    </tr>\n",
       "    <tr>\n",
       "      <th>4</th>\n",
       "      <td>145082.51684</td>\n",
       "      <td>5201.38772</td>\n",
       "      <td>749.86044</td>\n",
       "      <td>2781.69752</td>\n",
       "    </tr>\n",
       "  </tbody>\n",
       "</table>\n",
       "</div>"
      ],
      "text/plain": [
       "    Impression      Click  Purchase    Earning\n",
       "0 120103.50380 3216.54796 702.16035 1939.61124\n",
       "1 134775.94336 3635.08242 834.05429 2929.40582\n",
       "2 107806.62079 3057.14356 422.93426 2526.24488\n",
       "3 116445.27553 4650.47391 429.03353 2281.42857\n",
       "4 145082.51684 5201.38772 749.86044 2781.69752"
      ]
     },
     "execution_count": 9,
     "metadata": {},
     "output_type": "execute_result"
    }
   ],
   "source": [
    "df_test.head()"
   ]
  },
  {
   "cell_type": "code",
   "execution_count": 10,
   "id": "76a3c44d",
   "metadata": {
    "execution": {
     "iopub.execute_input": "2024-10-02T19:42:58.097910Z",
     "iopub.status.busy": "2024-10-02T19:42:58.097123Z",
     "iopub.status.idle": "2024-10-02T19:42:58.104574Z",
     "shell.execute_reply": "2024-10-02T19:42:58.103365Z"
    },
    "papermill": {
     "duration": 0.024548,
     "end_time": "2024-10-02T19:42:58.107620",
     "exception": false,
     "start_time": "2024-10-02T19:42:58.083072",
     "status": "completed"
    },
    "tags": []
   },
   "outputs": [
    {
     "data": {
      "text/plain": [
       "(40, 4)"
      ]
     },
     "execution_count": 10,
     "metadata": {},
     "output_type": "execute_result"
    }
   ],
   "source": [
    "df_test.shape"
   ]
  },
  {
   "cell_type": "code",
   "execution_count": 11,
   "id": "34fdcd5d",
   "metadata": {
    "execution": {
     "iopub.execute_input": "2024-10-02T19:42:58.135269Z",
     "iopub.status.busy": "2024-10-02T19:42:58.134860Z",
     "iopub.status.idle": "2024-10-02T19:42:58.146633Z",
     "shell.execute_reply": "2024-10-02T19:42:58.145418Z"
    },
    "papermill": {
     "duration": 0.029265,
     "end_time": "2024-10-02T19:42:58.149845",
     "exception": false,
     "start_time": "2024-10-02T19:42:58.120580",
     "status": "completed"
    },
    "tags": []
   },
   "outputs": [
    {
     "name": "stdout",
     "output_type": "stream",
     "text": [
      "<class 'pandas.core.frame.DataFrame'>\n",
      "RangeIndex: 40 entries, 0 to 39\n",
      "Data columns (total 4 columns):\n",
      " #   Column      Non-Null Count  Dtype  \n",
      "---  ------      --------------  -----  \n",
      " 0   Impression  40 non-null     float64\n",
      " 1   Click       40 non-null     float64\n",
      " 2   Purchase    40 non-null     float64\n",
      " 3   Earning     40 non-null     float64\n",
      "dtypes: float64(4)\n",
      "memory usage: 1.4 KB\n"
     ]
    }
   ],
   "source": [
    "df_test.info()\n"
   ]
  },
  {
   "cell_type": "code",
   "execution_count": 12,
   "id": "47a394b0",
   "metadata": {
    "execution": {
     "iopub.execute_input": "2024-10-02T19:42:58.177001Z",
     "iopub.status.busy": "2024-10-02T19:42:58.176587Z",
     "iopub.status.idle": "2024-10-02T19:42:58.186283Z",
     "shell.execute_reply": "2024-10-02T19:42:58.184995Z"
    },
    "papermill": {
     "duration": 0.026428,
     "end_time": "2024-10-02T19:42:58.188890",
     "exception": false,
     "start_time": "2024-10-02T19:42:58.162462",
     "status": "completed"
    },
    "tags": []
   },
   "outputs": [
    {
     "data": {
      "text/plain": [
       "Impression    0\n",
       "Click         0\n",
       "Purchase      0\n",
       "Earning       0\n",
       "dtype: int64"
      ]
     },
     "execution_count": 12,
     "metadata": {},
     "output_type": "execute_result"
    }
   ],
   "source": [
    "df_test.isnull().sum()"
   ]
  },
  {
   "cell_type": "code",
   "execution_count": 13,
   "id": "dec55ef1",
   "metadata": {
    "execution": {
     "iopub.execute_input": "2024-10-02T19:42:58.216488Z",
     "iopub.status.busy": "2024-10-02T19:42:58.216028Z",
     "iopub.status.idle": "2024-10-02T19:42:58.240236Z",
     "shell.execute_reply": "2024-10-02T19:42:58.239105Z"
    },
    "papermill": {
     "duration": 0.041174,
     "end_time": "2024-10-02T19:42:58.243235",
     "exception": false,
     "start_time": "2024-10-02T19:42:58.202061",
     "status": "completed"
    },
    "tags": []
   },
   "outputs": [
    {
     "data": {
      "text/html": [
       "<div>\n",
       "<style scoped>\n",
       "    .dataframe tbody tr th:only-of-type {\n",
       "        vertical-align: middle;\n",
       "    }\n",
       "\n",
       "    .dataframe tbody tr th {\n",
       "        vertical-align: top;\n",
       "    }\n",
       "\n",
       "    .dataframe thead th {\n",
       "        text-align: right;\n",
       "    }\n",
       "</style>\n",
       "<table border=\"1\" class=\"dataframe\">\n",
       "  <thead>\n",
       "    <tr style=\"text-align: right;\">\n",
       "      <th></th>\n",
       "      <th>count</th>\n",
       "      <th>mean</th>\n",
       "      <th>std</th>\n",
       "      <th>min</th>\n",
       "      <th>25%</th>\n",
       "      <th>50%</th>\n",
       "      <th>75%</th>\n",
       "      <th>max</th>\n",
       "    </tr>\n",
       "  </thead>\n",
       "  <tbody>\n",
       "    <tr>\n",
       "      <th>Impression</th>\n",
       "      <td>40.00000</td>\n",
       "      <td>120512.41176</td>\n",
       "      <td>18807.44871</td>\n",
       "      <td>79033.83492</td>\n",
       "      <td>112691.97077</td>\n",
       "      <td>119291.30077</td>\n",
       "      <td>132050.57893</td>\n",
       "      <td>158605.92048</td>\n",
       "    </tr>\n",
       "    <tr>\n",
       "      <th>Click</th>\n",
       "      <td>40.00000</td>\n",
       "      <td>3967.54976</td>\n",
       "      <td>923.09507</td>\n",
       "      <td>1836.62986</td>\n",
       "      <td>3376.81902</td>\n",
       "      <td>3931.35980</td>\n",
       "      <td>4660.49791</td>\n",
       "      <td>6019.69508</td>\n",
       "    </tr>\n",
       "    <tr>\n",
       "      <th>Purchase</th>\n",
       "      <td>40.00000</td>\n",
       "      <td>582.10610</td>\n",
       "      <td>161.15251</td>\n",
       "      <td>311.62952</td>\n",
       "      <td>444.62683</td>\n",
       "      <td>551.35573</td>\n",
       "      <td>699.86236</td>\n",
       "      <td>889.91046</td>\n",
       "    </tr>\n",
       "    <tr>\n",
       "      <th>Earning</th>\n",
       "      <td>40.00000</td>\n",
       "      <td>2514.89073</td>\n",
       "      <td>282.73085</td>\n",
       "      <td>1939.61124</td>\n",
       "      <td>2280.53743</td>\n",
       "      <td>2544.66611</td>\n",
       "      <td>2761.54540</td>\n",
       "      <td>3171.48971</td>\n",
       "    </tr>\n",
       "  </tbody>\n",
       "</table>\n",
       "</div>"
      ],
      "text/plain": [
       "              count         mean         std         min          25%          50%          75%          max\n",
       "Impression 40.00000 120512.41176 18807.44871 79033.83492 112691.97077 119291.30077 132050.57893 158605.92048\n",
       "Click      40.00000   3967.54976   923.09507  1836.62986   3376.81902   3931.35980   4660.49791   6019.69508\n",
       "Purchase   40.00000    582.10610   161.15251   311.62952    444.62683    551.35573    699.86236    889.91046\n",
       "Earning    40.00000   2514.89073   282.73085  1939.61124   2280.53743   2544.66611   2761.54540   3171.48971"
      ]
     },
     "execution_count": 13,
     "metadata": {},
     "output_type": "execute_result"
    }
   ],
   "source": [
    "df_test.describe().T\n",
    "#No significant difference between Mean and Median, meaning there are no extreme outliers\n",
    "#Mean > Median; this indicates a right-skewed (positively skewed) distribution."
   ]
  },
  {
   "cell_type": "code",
   "execution_count": 14,
   "id": "74885883",
   "metadata": {
    "execution": {
     "iopub.execute_input": "2024-10-02T19:42:58.273389Z",
     "iopub.status.busy": "2024-10-02T19:42:58.272922Z",
     "iopub.status.idle": "2024-10-02T19:42:58.280835Z",
     "shell.execute_reply": "2024-10-02T19:42:58.279625Z"
    },
    "papermill": {
     "duration": 0.025761,
     "end_time": "2024-10-02T19:42:58.283394",
     "exception": false,
     "start_time": "2024-10-02T19:42:58.257633",
     "status": "completed"
    },
    "tags": []
   },
   "outputs": [],
   "source": [
    "df_control[\"Group_Name\"]=\"Control\"\n",
    "df_test[\"Group_Name\"]=\"Test\""
   ]
  },
  {
   "cell_type": "code",
   "execution_count": 15,
   "id": "ea473761",
   "metadata": {
    "execution": {
     "iopub.execute_input": "2024-10-02T19:42:58.310849Z",
     "iopub.status.busy": "2024-10-02T19:42:58.310422Z",
     "iopub.status.idle": "2024-10-02T19:42:58.317512Z",
     "shell.execute_reply": "2024-10-02T19:42:58.316478Z"
    },
    "papermill": {
     "duration": 0.023955,
     "end_time": "2024-10-02T19:42:58.320147",
     "exception": false,
     "start_time": "2024-10-02T19:42:58.296192",
     "status": "completed"
    },
    "tags": []
   },
   "outputs": [],
   "source": [
    "df = pd.concat([df_control, df_test], ignore_index=True)"
   ]
  },
  {
   "cell_type": "code",
   "execution_count": 16,
   "id": "c09c45d1",
   "metadata": {
    "execution": {
     "iopub.execute_input": "2024-10-02T19:42:58.348109Z",
     "iopub.status.busy": "2024-10-02T19:42:58.347254Z",
     "iopub.status.idle": "2024-10-02T19:42:58.360263Z",
     "shell.execute_reply": "2024-10-02T19:42:58.359027Z"
    },
    "papermill": {
     "duration": 0.030163,
     "end_time": "2024-10-02T19:42:58.363362",
     "exception": false,
     "start_time": "2024-10-02T19:42:58.333199",
     "status": "completed"
    },
    "tags": []
   },
   "outputs": [
    {
     "data": {
      "text/html": [
       "<div>\n",
       "<style scoped>\n",
       "    .dataframe tbody tr th:only-of-type {\n",
       "        vertical-align: middle;\n",
       "    }\n",
       "\n",
       "    .dataframe tbody tr th {\n",
       "        vertical-align: top;\n",
       "    }\n",
       "\n",
       "    .dataframe thead th {\n",
       "        text-align: right;\n",
       "    }\n",
       "</style>\n",
       "<table border=\"1\" class=\"dataframe\">\n",
       "  <thead>\n",
       "    <tr style=\"text-align: right;\">\n",
       "      <th></th>\n",
       "      <th>Impression</th>\n",
       "      <th>Click</th>\n",
       "      <th>Purchase</th>\n",
       "      <th>Earning</th>\n",
       "      <th>Group_Name</th>\n",
       "    </tr>\n",
       "  </thead>\n",
       "  <tbody>\n",
       "    <tr>\n",
       "      <th>0</th>\n",
       "      <td>82529.45927</td>\n",
       "      <td>6090.07732</td>\n",
       "      <td>665.21125</td>\n",
       "      <td>2311.27714</td>\n",
       "      <td>Control</td>\n",
       "    </tr>\n",
       "    <tr>\n",
       "      <th>1</th>\n",
       "      <td>98050.45193</td>\n",
       "      <td>3382.86179</td>\n",
       "      <td>315.08489</td>\n",
       "      <td>1742.80686</td>\n",
       "      <td>Control</td>\n",
       "    </tr>\n",
       "    <tr>\n",
       "      <th>2</th>\n",
       "      <td>82696.02355</td>\n",
       "      <td>4167.96575</td>\n",
       "      <td>458.08374</td>\n",
       "      <td>1797.82745</td>\n",
       "      <td>Control</td>\n",
       "    </tr>\n",
       "    <tr>\n",
       "      <th>3</th>\n",
       "      <td>109914.40040</td>\n",
       "      <td>4910.88224</td>\n",
       "      <td>487.09077</td>\n",
       "      <td>1696.22918</td>\n",
       "      <td>Control</td>\n",
       "    </tr>\n",
       "    <tr>\n",
       "      <th>4</th>\n",
       "      <td>108457.76263</td>\n",
       "      <td>5987.65581</td>\n",
       "      <td>441.03405</td>\n",
       "      <td>1543.72018</td>\n",
       "      <td>Control</td>\n",
       "    </tr>\n",
       "  </tbody>\n",
       "</table>\n",
       "</div>"
      ],
      "text/plain": [
       "    Impression      Click  Purchase    Earning Group_Name\n",
       "0  82529.45927 6090.07732 665.21125 2311.27714    Control\n",
       "1  98050.45193 3382.86179 315.08489 1742.80686    Control\n",
       "2  82696.02355 4167.96575 458.08374 1797.82745    Control\n",
       "3 109914.40040 4910.88224 487.09077 1696.22918    Control\n",
       "4 108457.76263 5987.65581 441.03405 1543.72018    Control"
      ]
     },
     "execution_count": 16,
     "metadata": {},
     "output_type": "execute_result"
    }
   ],
   "source": [
    "df.head()"
   ]
  },
  {
   "cell_type": "code",
   "execution_count": 17,
   "id": "9366a97e",
   "metadata": {
    "execution": {
     "iopub.execute_input": "2024-10-02T19:42:58.392203Z",
     "iopub.status.busy": "2024-10-02T19:42:58.391802Z",
     "iopub.status.idle": "2024-10-02T19:42:58.405226Z",
     "shell.execute_reply": "2024-10-02T19:42:58.404020Z"
    },
    "papermill": {
     "duration": 0.031159,
     "end_time": "2024-10-02T19:42:58.407760",
     "exception": false,
     "start_time": "2024-10-02T19:42:58.376601",
     "status": "completed"
    },
    "tags": []
   },
   "outputs": [
    {
     "data": {
      "text/html": [
       "<div>\n",
       "<style scoped>\n",
       "    .dataframe tbody tr th:only-of-type {\n",
       "        vertical-align: middle;\n",
       "    }\n",
       "\n",
       "    .dataframe tbody tr th {\n",
       "        vertical-align: top;\n",
       "    }\n",
       "\n",
       "    .dataframe thead th {\n",
       "        text-align: right;\n",
       "    }\n",
       "</style>\n",
       "<table border=\"1\" class=\"dataframe\">\n",
       "  <thead>\n",
       "    <tr style=\"text-align: right;\">\n",
       "      <th></th>\n",
       "      <th>Impression</th>\n",
       "      <th>Click</th>\n",
       "      <th>Purchase</th>\n",
       "      <th>Earning</th>\n",
       "      <th>Group_Name</th>\n",
       "    </tr>\n",
       "  </thead>\n",
       "  <tbody>\n",
       "    <tr>\n",
       "      <th>75</th>\n",
       "      <td>79234.91193</td>\n",
       "      <td>6002.21358</td>\n",
       "      <td>382.04712</td>\n",
       "      <td>2277.86398</td>\n",
       "      <td>Test</td>\n",
       "    </tr>\n",
       "    <tr>\n",
       "      <th>76</th>\n",
       "      <td>130702.23941</td>\n",
       "      <td>3626.32007</td>\n",
       "      <td>449.82459</td>\n",
       "      <td>2530.84133</td>\n",
       "      <td>Test</td>\n",
       "    </tr>\n",
       "    <tr>\n",
       "      <th>77</th>\n",
       "      <td>116481.87337</td>\n",
       "      <td>4702.78247</td>\n",
       "      <td>472.45373</td>\n",
       "      <td>2597.91763</td>\n",
       "      <td>Test</td>\n",
       "    </tr>\n",
       "    <tr>\n",
       "      <th>78</th>\n",
       "      <td>79033.83492</td>\n",
       "      <td>4495.42818</td>\n",
       "      <td>425.35910</td>\n",
       "      <td>2595.85788</td>\n",
       "      <td>Test</td>\n",
       "    </tr>\n",
       "    <tr>\n",
       "      <th>79</th>\n",
       "      <td>102257.45409</td>\n",
       "      <td>4800.06832</td>\n",
       "      <td>521.31073</td>\n",
       "      <td>2967.51839</td>\n",
       "      <td>Test</td>\n",
       "    </tr>\n",
       "  </tbody>\n",
       "</table>\n",
       "</div>"
      ],
      "text/plain": [
       "     Impression      Click  Purchase    Earning Group_Name\n",
       "75  79234.91193 6002.21358 382.04712 2277.86398       Test\n",
       "76 130702.23941 3626.32007 449.82459 2530.84133       Test\n",
       "77 116481.87337 4702.78247 472.45373 2597.91763       Test\n",
       "78  79033.83492 4495.42818 425.35910 2595.85788       Test\n",
       "79 102257.45409 4800.06832 521.31073 2967.51839       Test"
      ]
     },
     "execution_count": 17,
     "metadata": {},
     "output_type": "execute_result"
    }
   ],
   "source": [
    "df.tail()"
   ]
  },
  {
   "cell_type": "code",
   "execution_count": 18,
   "id": "cfbf7c58",
   "metadata": {
    "execution": {
     "iopub.execute_input": "2024-10-02T19:42:58.437886Z",
     "iopub.status.busy": "2024-10-02T19:42:58.437454Z",
     "iopub.status.idle": "2024-10-02T19:42:58.444832Z",
     "shell.execute_reply": "2024-10-02T19:42:58.443679Z"
    },
    "papermill": {
     "duration": 0.025349,
     "end_time": "2024-10-02T19:42:58.447494",
     "exception": false,
     "start_time": "2024-10-02T19:42:58.422145",
     "status": "completed"
    },
    "tags": []
   },
   "outputs": [
    {
     "data": {
      "text/plain": [
       "(80, 5)"
      ]
     },
     "execution_count": 18,
     "metadata": {},
     "output_type": "execute_result"
    }
   ],
   "source": [
    "df.shape"
   ]
  },
  {
   "cell_type": "code",
   "execution_count": 19,
   "id": "1c0a40af",
   "metadata": {
    "execution": {
     "iopub.execute_input": "2024-10-02T19:42:58.477180Z",
     "iopub.status.busy": "2024-10-02T19:42:58.476241Z",
     "iopub.status.idle": "2024-10-02T19:42:58.491711Z",
     "shell.execute_reply": "2024-10-02T19:42:58.490491Z"
    },
    "papermill": {
     "duration": 0.033257,
     "end_time": "2024-10-02T19:42:58.494606",
     "exception": false,
     "start_time": "2024-10-02T19:42:58.461349",
     "status": "completed"
    },
    "tags": []
   },
   "outputs": [
    {
     "data": {
      "text/html": [
       "<div>\n",
       "<style scoped>\n",
       "    .dataframe tbody tr th:only-of-type {\n",
       "        vertical-align: middle;\n",
       "    }\n",
       "\n",
       "    .dataframe tbody tr th {\n",
       "        vertical-align: top;\n",
       "    }\n",
       "\n",
       "    .dataframe thead th {\n",
       "        text-align: right;\n",
       "    }\n",
       "</style>\n",
       "<table border=\"1\" class=\"dataframe\">\n",
       "  <thead>\n",
       "    <tr style=\"text-align: right;\">\n",
       "      <th></th>\n",
       "      <th>Purchase</th>\n",
       "    </tr>\n",
       "    <tr>\n",
       "      <th>Group_Name</th>\n",
       "      <th></th>\n",
       "    </tr>\n",
       "  </thead>\n",
       "  <tbody>\n",
       "    <tr>\n",
       "      <th>Control</th>\n",
       "      <td>550.89406</td>\n",
       "    </tr>\n",
       "    <tr>\n",
       "      <th>Test</th>\n",
       "      <td>582.10610</td>\n",
       "    </tr>\n",
       "  </tbody>\n",
       "</table>\n",
       "</div>"
      ],
      "text/plain": [
       "            Purchase\n",
       "Group_Name          \n",
       "Control    550.89406\n",
       "Test       582.10610"
      ]
     },
     "execution_count": 19,
     "metadata": {},
     "output_type": "execute_result"
    }
   ],
   "source": [
    "df.groupby(\"Group_Name\").agg({\"Purchase\": \"mean\"})"
   ]
  },
  {
   "cell_type": "code",
   "execution_count": 20,
   "id": "2d12078f",
   "metadata": {
    "execution": {
     "iopub.execute_input": "2024-10-02T19:42:58.526238Z",
     "iopub.status.busy": "2024-10-02T19:42:58.525802Z",
     "iopub.status.idle": "2024-10-02T19:42:58.541907Z",
     "shell.execute_reply": "2024-10-02T19:42:58.540291Z"
    },
    "papermill": {
     "duration": 0.035041,
     "end_time": "2024-10-02T19:42:58.544524",
     "exception": false,
     "start_time": "2024-10-02T19:42:58.509483",
     "status": "completed"
    },
    "tags": []
   },
   "outputs": [
    {
     "name": "stdout",
     "output_type": "stream",
     "text": [
      "Mean value of \"Purchase\" for the Group_Name \"Control\" has been calculated as: 550.8941\n",
      "\n",
      "Mean value of \"Purchase\" for the Group_Name \"Test\" has been calculated as: 582.1061\n",
      "\n",
      "It looks like there is 31.212037878235947 difference between the average values of 'Purchase' in the Control Group and Test Group\n"
     ]
    }
   ],
   "source": [
    "print('Mean value of \"Purchase\" for the Group_Name \"Control\" has been calculated as: %.4f\\n' % df.groupby(\"Group_Name\").agg({\"Purchase\": \"mean\"}).iloc[0,0])\n",
    "print('Mean value of \"Purchase\" for the Group_Name \"Test\" has been calculated as: %.4f\\n' % df.groupby(\"Group_Name\").agg({\"Purchase\": \"mean\"}).iloc[1,0])\n",
    "\n",
    "print(f\"It looks like there is {df.groupby('Group_Name').agg({'Purchase': 'mean'}).iloc[1,0] - df.groupby('Group_Name').agg({'Purchase': 'mean'}).iloc[0,0]} difference between the average values of 'Purchase' in the Control Group and Test Group\")\n"
   ]
  },
  {
   "cell_type": "markdown",
   "id": "b6fbb469",
   "metadata": {
    "papermill": {
     "duration": 0.013465,
     "end_time": "2024-10-02T19:42:58.573369",
     "exception": false,
     "start_time": "2024-10-02T19:42:58.559904",
     "status": "completed"
    },
    "tags": []
   },
   "source": [
    "Did the difference of 31.2120 between the Purchase mean of the Control Group and the Purchase mean of the Test Group occur by chance, or is there a real statistical difference?"
   ]
  },
  {
   "cell_type": "markdown",
   "id": "f68747a7",
   "metadata": {
    "papermill": {
     "duration": 0.013965,
     "end_time": "2024-10-02T19:42:58.602059",
     "exception": false,
     "start_time": "2024-10-02T19:42:58.588094",
     "status": "completed"
    },
    "tags": []
   },
   "source": [
    "Checking to see the mean of the 'Earning' variable of each group"
   ]
  },
  {
   "cell_type": "code",
   "execution_count": 21,
   "id": "5dec6540",
   "metadata": {
    "execution": {
     "iopub.execute_input": "2024-10-02T19:42:58.631705Z",
     "iopub.status.busy": "2024-10-02T19:42:58.631258Z",
     "iopub.status.idle": "2024-10-02T19:42:58.643641Z",
     "shell.execute_reply": "2024-10-02T19:42:58.642497Z"
    },
    "papermill": {
     "duration": 0.0301,
     "end_time": "2024-10-02T19:42:58.646198",
     "exception": false,
     "start_time": "2024-10-02T19:42:58.616098",
     "status": "completed"
    },
    "tags": []
   },
   "outputs": [
    {
     "data": {
      "text/html": [
       "<div>\n",
       "<style scoped>\n",
       "    .dataframe tbody tr th:only-of-type {\n",
       "        vertical-align: middle;\n",
       "    }\n",
       "\n",
       "    .dataframe tbody tr th {\n",
       "        vertical-align: top;\n",
       "    }\n",
       "\n",
       "    .dataframe thead th {\n",
       "        text-align: right;\n",
       "    }\n",
       "</style>\n",
       "<table border=\"1\" class=\"dataframe\">\n",
       "  <thead>\n",
       "    <tr style=\"text-align: right;\">\n",
       "      <th></th>\n",
       "      <th>Earning</th>\n",
       "    </tr>\n",
       "    <tr>\n",
       "      <th>Group_Name</th>\n",
       "      <th></th>\n",
       "    </tr>\n",
       "  </thead>\n",
       "  <tbody>\n",
       "    <tr>\n",
       "      <th>Control</th>\n",
       "      <td>1908.56830</td>\n",
       "    </tr>\n",
       "    <tr>\n",
       "      <th>Test</th>\n",
       "      <td>2514.89073</td>\n",
       "    </tr>\n",
       "  </tbody>\n",
       "</table>\n",
       "</div>"
      ],
      "text/plain": [
       "              Earning\n",
       "Group_Name           \n",
       "Control    1908.56830\n",
       "Test       2514.89073"
      ]
     },
     "execution_count": 21,
     "metadata": {},
     "output_type": "execute_result"
    }
   ],
   "source": [
    "df.groupby(\"Group_Name\").agg({\"Earning\": \"mean\"})"
   ]
  },
  {
   "cell_type": "markdown",
   "id": "334a21ef",
   "metadata": {
    "papermill": {
     "duration": 0.013785,
     "end_time": "2024-10-02T19:42:58.674114",
     "exception": false,
     "start_time": "2024-10-02T19:42:58.660329",
     "status": "completed"
    },
    "tags": []
   },
   "source": [
    "<div style=\"text-align: center; font-size: 18px; font-weight: bold; color: purple;\">\n",
    "    Defining the Hypothesis of the AB Test\n",
    "</div>\n",
    "\n"
   ]
  },
  {
   "cell_type": "markdown",
   "id": "98471d26",
   "metadata": {
    "papermill": {
     "duration": 0.013588,
     "end_time": "2024-10-02T19:42:58.701620",
     "exception": false,
     "start_time": "2024-10-02T19:42:58.688032",
     "status": "completed"
    },
    "tags": []
   },
   "source": [
    "H0: M1 = M2 There is NO difference between the average purchase of the Control Group / \"Maximum Bidding\" and the Test Group /  \"Average Bidding\"\n",
    "\n",
    "H1: M1 != M2 M2 There is a difference between the average purchase of the Control Group / \"Maximum Bidding\" and the Test Group /  \"Average Bidding\""
   ]
  },
  {
   "cell_type": "markdown",
   "id": "ccc5ad9d",
   "metadata": {
    "papermill": {
     "duration": 0.013597,
     "end_time": "2024-10-02T19:42:58.729179",
     "exception": false,
     "start_time": "2024-10-02T19:42:58.715582",
     "status": "completed"
    },
    "tags": []
   },
   "source": [
    "<div style=\"text-align: center; font-size: 18px; font-weight: bold; color: purple;\">\n",
    "   Normality Assumption & Variance Assumption\n",
    "</div>\n"
   ]
  },
  {
   "cell_type": "code",
   "execution_count": 22,
   "id": "27be05cd",
   "metadata": {
    "execution": {
     "iopub.execute_input": "2024-10-02T19:42:58.759785Z",
     "iopub.status.busy": "2024-10-02T19:42:58.759293Z",
     "iopub.status.idle": "2024-10-02T19:42:58.772685Z",
     "shell.execute_reply": "2024-10-02T19:42:58.771452Z"
    },
    "papermill": {
     "duration": 0.032176,
     "end_time": "2024-10-02T19:42:58.775497",
     "exception": false,
     "start_time": "2024-10-02T19:42:58.743321",
     "status": "completed"
    },
    "tags": []
   },
   "outputs": [
    {
     "name": "stdout",
     "output_type": "stream",
     "text": [
      "Test Stat = 0.9773, p-value = 0.5891\n",
      "Test Stat = 0.9589, p-value = 0.1541\n"
     ]
    }
   ],
   "source": [
    "# NORMALITY ASSUMPTION\n",
    "# H0: The assumption of normal distribution is being met\n",
    "# H1: The assumption of normal distribution is NOT met\n",
    "\n",
    "# p-value < 0.05 ==> H0 is rejected\n",
    "# p-value > 0.05 ==> H0 is NOT rejected\n",
    "\n",
    "# p-values > 0.05, H0 cannot be rejected!\n",
    "\n",
    "test_stat, pvalue = shapiro(df.loc[df[\"Group_Name\"] == \"Control\", \"Purchase\"])\n",
    "print('Test Stat = %.4f, p-value = %.4f' % (test_stat, pvalue))\n",
    "\n",
    "test_stat, pvalue = shapiro(df.loc[df[\"Group_Name\"] == \"Test\", \"Purchase\"])\n",
    "print('Test Stat = %.4f, p-value = %.4f' % (test_stat, pvalue))"
   ]
  },
  {
   "cell_type": "code",
   "execution_count": 23,
   "id": "6c7e7a34",
   "metadata": {
    "execution": {
     "iopub.execute_input": "2024-10-02T19:42:58.806831Z",
     "iopub.status.busy": "2024-10-02T19:42:58.806367Z",
     "iopub.status.idle": "2024-10-02T19:42:58.820654Z",
     "shell.execute_reply": "2024-10-02T19:42:58.819558Z"
    },
    "papermill": {
     "duration": 0.032799,
     "end_time": "2024-10-02T19:42:58.823028",
     "exception": false,
     "start_time": "2024-10-02T19:42:58.790229",
     "status": "completed"
    },
    "tags": []
   },
   "outputs": [
    {
     "name": "stdout",
     "output_type": "stream",
     "text": [
      "Test Stat = 2.6393, p-value = 0.1083\n"
     ]
    }
   ],
   "source": [
    "# VARIANCE ASSUMPTION\n",
    "#H0: M1 = M2 Variances are Homogeneous\n",
    "#H1: M1 = M2 Variances are not Homogeneous\n",
    "\n",
    "# p-value < 0.05 ==> H0 is rejected\n",
    "# p-value > 0.05 ==> H0 is NOT rejected\n",
    "\n",
    "#(p-value = 0.1083) > 0.05, H0 cannot be rejected!\n",
    "\n",
    "test_stat, pvalue = levene(df.loc[df[\"Group_Name\"] == \"Control\", \"Purchase\"],\n",
    "                           df.loc[df[\"Group_Name\"] == \"Test\", \"Purchase\"])\n",
    "\n",
    "print('Test Stat = %.4f, p-value = %.4f' % (test_stat, pvalue))"
   ]
  },
  {
   "cell_type": "markdown",
   "id": "8f27ebb7",
   "metadata": {
    "papermill": {
     "duration": 0.014086,
     "end_time": "2024-10-02T19:42:58.851468",
     "exception": false,
     "start_time": "2024-10-02T19:42:58.837382",
     "status": "completed"
    },
    "tags": []
   },
   "source": [
    "<div style=\"text-align: center; font-size: 18px; font-weight: bold; color: purple;\">\n",
    "   AB Test \n",
    "</div>\n"
   ]
  },
  {
   "cell_type": "code",
   "execution_count": 24,
   "id": "ae4f80c2",
   "metadata": {
    "execution": {
     "iopub.execute_input": "2024-10-02T19:42:58.881653Z",
     "iopub.status.busy": "2024-10-02T19:42:58.881195Z",
     "iopub.status.idle": "2024-10-02T19:42:58.893987Z",
     "shell.execute_reply": "2024-10-02T19:42:58.892795Z"
    },
    "papermill": {
     "duration": 0.030981,
     "end_time": "2024-10-02T19:42:58.896685",
     "exception": false,
     "start_time": "2024-10-02T19:42:58.865704",
     "status": "completed"
    },
    "tags": []
   },
   "outputs": [
    {
     "name": "stdout",
     "output_type": "stream",
     "text": [
      "Test Stat = -0.9416, p-value = 0.3493\n"
     ]
    }
   ],
   "source": [
    "\n",
    "#H0: M1 = M2 There is NO difference between the average purchase of the Control Group / \"Maximum Bidding\" and the Test Group /  \"Average Bidding\"\n",
    "\n",
    "#H1: M1 != M2 M2 There is a difference between the average purchase of the Control Group / \"Maximum Bidding\" and the Test Group /  \"Average Bidding\"\n",
    "\n",
    "\n",
    "# p-value < 0.05 ==> H0 is rejected\n",
    "# p-value > 0.05 ==> H0 is NOT rejected\n",
    "\n",
    "#(p-value = 0.3493) > 0.05, H0 cannot be rejected!\n",
    "\n",
    "test_stat, pvalue = ttest_ind(df.loc[df[\"Group_Name\"] == \"Control\", \"Purchase\"],\n",
    "                              df.loc[df[\"Group_Name\"] == \"Test\", \"Purchase\"],\n",
    "                              equal_var=True)\n",
    "print('Test Stat = %.4f, p-value = %.4f' % (test_stat, pvalue))"
   ]
  },
  {
   "cell_type": "markdown",
   "id": "8635aeae",
   "metadata": {
    "papermill": {
     "duration": 0.014801,
     "end_time": "2024-10-02T19:42:58.925876",
     "exception": false,
     "start_time": "2024-10-02T19:42:58.911075",
     "status": "completed"
    },
    "tags": []
   },
   "source": [
    "<div style=\"text-align: center; font-size: 16px; font-weight: bold; color: purple;\">\n",
    "    Analysis of AB Testing Results\n",
    "</div>\n",
    "\n",
    "\n",
    "Since both Normality Assumption and Variance Assumption are met (H0 not rejected), I chose to use \"Independent two-sample t-test (ttest_ind) - parametric\"\n",
    "\n",
    "If Normality Assumption wasn't met, I was gonna use \"mannwhitneyu - non-parametric test\""
   ]
  },
  {
   "cell_type": "markdown",
   "id": "42dabbd0",
   "metadata": {
    "papermill": {
     "duration": 0.015327,
     "end_time": "2024-10-02T19:42:58.955687",
     "exception": false,
     "start_time": "2024-10-02T19:42:58.940360",
     "status": "completed"
    },
    "tags": []
   },
   "source": [
    "<div style=\"text-align: center; font-size: 16px; font-weight: bold; color: purple;\">\n",
    "   AB Test Conclusion\n",
    "</div>\n",
    "\n",
    "\n",
    "Since the p-value = 0.3493 is greater than 0.05, H0 cannot be rejected. In this case, we can safely say that there is NO statistically significant difference between the average purchases  of Control Group (Maximum Bidding) and the Test Group (Average Bidding)."
   ]
  },
  {
   "cell_type": "markdown",
   "id": "da95b438",
   "metadata": {
    "papermill": {
     "duration": 0.013965,
     "end_time": "2024-10-02T19:42:58.984023",
     "exception": false,
     "start_time": "2024-10-02T19:42:58.970058",
     "status": "completed"
    },
    "tags": []
   },
   "source": [
    "<div style=\"text-align: center; font-size: 16px; font-weight: bold; color: purple;\">\n",
    "    What kind of suggestions can be provided based on this result?\n",
    "</div>\n"
   ]
  },
  {
   "cell_type": "markdown",
   "id": "820db893",
   "metadata": {
    "papermill": {
     "duration": 0.013725,
     "end_time": "2024-10-02T19:42:59.011815",
     "exception": false,
     "start_time": "2024-10-02T19:42:58.998090",
     "status": "completed"
    },
    "tags": []
   },
   "source": [
    "1-  We might consider running the A/B test for a longer period.\n",
    "\n",
    "2- Since the test shows no significant improvement from the Average Bidding strategy, our customer could stick to the current Maximum Bidding strategy as it performs equally well.\n",
    "\n",
    "3- We might suggest the customer consider using Average Bidding as its 'Purchase' amount is higher than Maximum Bidding, if 'Purchase' amount is more important than the other metrics.\n",
    "Disclaimer: The observed difference is not statistically significant (p = 0.3493).\n",
    "\n",
    "4- We might suggest the customer consider choosing Average Bidding as the Test Group's 'Earnings' is higher than the Control Group, if 'Earnings' is an important metric for them.\n",
    "Disclaimer: The observed difference is not statistically significant (p = 0.3493).\n",
    "\n",
    "5- We might need to increase the sample size of the dataset for reliable results as small sample size may have affected the statistical power of the test.\n"
   ]
  }
 ],
 "metadata": {
  "kaggle": {
   "accelerator": "none",
   "dataSources": [
    {
     "datasetId": 5708683,
     "sourceId": 9403470,
     "sourceType": "datasetVersion"
    }
   ],
   "dockerImageVersionId": 30761,
   "isGpuEnabled": false,
   "isInternetEnabled": true,
   "language": "python",
   "sourceType": "notebook"
  },
  "kernelspec": {
   "display_name": "Python 3",
   "language": "python",
   "name": "python3"
  },
  "language_info": {
   "codemirror_mode": {
    "name": "ipython",
    "version": 3
   },
   "file_extension": ".py",
   "mimetype": "text/x-python",
   "name": "python",
   "nbconvert_exporter": "python",
   "pygments_lexer": "ipython3",
   "version": "3.10.14"
  },
  "papermill": {
   "default_parameters": {},
   "duration": 26.141879,
   "end_time": "2024-10-02T19:42:59.748563",
   "environment_variables": {},
   "exception": null,
   "input_path": "__notebook__.ipynb",
   "output_path": "__notebook__.ipynb",
   "parameters": {},
   "start_time": "2024-10-02T19:42:33.606684",
   "version": "2.6.0"
  }
 },
 "nbformat": 4,
 "nbformat_minor": 5
}
